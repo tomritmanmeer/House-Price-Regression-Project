{
  "nbformat": 4,
  "nbformat_minor": 0,
  "metadata": {
    "colab": {
      "provenance": [],
      "collapsed_sections": []
    },
    "kernelspec": {
      "name": "python3",
      "display_name": "Python 3"
    },
    "language_info": {
      "name": "python"
    }
  },
  "cells": [
    {
      "cell_type": "markdown",
      "source": [
        "# House Price Regression Project\n",
        "Using house price advanced regression techniques data set from kaggle.com <br>\n",
        "https://www.kaggle.com/c/house-prices-advanced-regression-techniques\n",
        "\n",
        "In this project I used a variety of machine learning techniques on labelled housing data from kaggle.com to predict the sales price of a house from a wide range of feature variables."
      ],
      "metadata": {
        "id": "auHWDVdWXEga"
      }
    },
    {
      "cell_type": "markdown",
      "source": [
        "### Retrieve Data "
      ],
      "metadata": {
        "id": "JoKOon5v9D_z"
      }
    },
    {
      "cell_type": "code",
      "source": [
        "#Retrieve data from kaggle.com and unzip\n",
        "!cp kaggle.json ~/.kaggle/\n",
        "!chmod 600 ~/.kaggle/kaggle.json\n",
        "!kaggle competitions download -c house-prices-advanced-regression-techniques\n",
        "!unzip house-prices-advanced-regression-techniques.zip"
      ],
      "metadata": {
        "colab": {
          "base_uri": "https://localhost:8080/"
        },
        "id": "V6RxNNICUi8D",
        "outputId": "30930302-3796-46c7-80b8-957f64dffaef"
      },
      "execution_count": null,
      "outputs": [
        {
          "output_type": "stream",
          "name": "stdout",
          "text": [
            "Downloading house-prices-advanced-regression-techniques.zip to /content\n",
            "\r  0% 0.00/199k [00:00<?, ?B/s]\n",
            "\r100% 199k/199k [00:00<00:00, 58.3MB/s]\n",
            "Archive:  house-prices-advanced-regression-techniques.zip\n",
            "  inflating: data_description.txt    \n",
            "  inflating: sample_submission.csv   \n",
            "  inflating: test.csv                \n",
            "  inflating: train.csv               \n"
          ]
        }
      ]
    },
    {
      "cell_type": "code",
      "source": [
        "import pandas as pd\n",
        "import numpy as np\n",
        "import matplotlib.pyplot as plt\n",
        "import seaborn as sns\n",
        "%matplotlib inline"
      ],
      "metadata": {
        "id": "4BxLDLU7Ui_S"
      },
      "execution_count": null,
      "outputs": []
    },
    {
      "cell_type": "code",
      "source": [
        "df_train = pd.read_csv('train.csv')"
      ],
      "metadata": {
        "id": "rjjmlwy8UjCY"
      },
      "execution_count": null,
      "outputs": []
    },
    {
      "cell_type": "code",
      "source": [
        "df_train.head()"
      ],
      "metadata": {
        "colab": {
          "base_uri": "https://localhost:8080/",
          "height": 299
        },
        "id": "lokR8cjtUjFJ",
        "outputId": "d3beb29d-b338-424e-a81c-0f2fcde4a36a"
      },
      "execution_count": null,
      "outputs": [
        {
          "output_type": "execute_result",
          "data": {
            "text/plain": [
              "   Id  MSSubClass MSZoning  LotFrontage  LotArea Street Alley LotShape  \\\n",
              "0   1          60       RL         65.0     8450   Pave   NaN      Reg   \n",
              "1   2          20       RL         80.0     9600   Pave   NaN      Reg   \n",
              "2   3          60       RL         68.0    11250   Pave   NaN      IR1   \n",
              "3   4          70       RL         60.0     9550   Pave   NaN      IR1   \n",
              "4   5          60       RL         84.0    14260   Pave   NaN      IR1   \n",
              "\n",
              "  LandContour Utilities  ... PoolArea PoolQC Fence MiscFeature MiscVal MoSold  \\\n",
              "0         Lvl    AllPub  ...        0    NaN   NaN         NaN       0      2   \n",
              "1         Lvl    AllPub  ...        0    NaN   NaN         NaN       0      5   \n",
              "2         Lvl    AllPub  ...        0    NaN   NaN         NaN       0      9   \n",
              "3         Lvl    AllPub  ...        0    NaN   NaN         NaN       0      2   \n",
              "4         Lvl    AllPub  ...        0    NaN   NaN         NaN       0     12   \n",
              "\n",
              "  YrSold  SaleType  SaleCondition  SalePrice  \n",
              "0   2008        WD         Normal     208500  \n",
              "1   2007        WD         Normal     181500  \n",
              "2   2008        WD         Normal     223500  \n",
              "3   2006        WD        Abnorml     140000  \n",
              "4   2008        WD         Normal     250000  \n",
              "\n",
              "[5 rows x 81 columns]"
            ],
            "text/html": [
              "\n",
              "  <div id=\"df-bb81bad6-7da0-4cb5-b07e-a513fad5f18e\">\n",
              "    <div class=\"colab-df-container\">\n",
              "      <div>\n",
              "<style scoped>\n",
              "    .dataframe tbody tr th:only-of-type {\n",
              "        vertical-align: middle;\n",
              "    }\n",
              "\n",
              "    .dataframe tbody tr th {\n",
              "        vertical-align: top;\n",
              "    }\n",
              "\n",
              "    .dataframe thead th {\n",
              "        text-align: right;\n",
              "    }\n",
              "</style>\n",
              "<table border=\"1\" class=\"dataframe\">\n",
              "  <thead>\n",
              "    <tr style=\"text-align: right;\">\n",
              "      <th></th>\n",
              "      <th>Id</th>\n",
              "      <th>MSSubClass</th>\n",
              "      <th>MSZoning</th>\n",
              "      <th>LotFrontage</th>\n",
              "      <th>LotArea</th>\n",
              "      <th>Street</th>\n",
              "      <th>Alley</th>\n",
              "      <th>LotShape</th>\n",
              "      <th>LandContour</th>\n",
              "      <th>Utilities</th>\n",
              "      <th>...</th>\n",
              "      <th>PoolArea</th>\n",
              "      <th>PoolQC</th>\n",
              "      <th>Fence</th>\n",
              "      <th>MiscFeature</th>\n",
              "      <th>MiscVal</th>\n",
              "      <th>MoSold</th>\n",
              "      <th>YrSold</th>\n",
              "      <th>SaleType</th>\n",
              "      <th>SaleCondition</th>\n",
              "      <th>SalePrice</th>\n",
              "    </tr>\n",
              "  </thead>\n",
              "  <tbody>\n",
              "    <tr>\n",
              "      <th>0</th>\n",
              "      <td>1</td>\n",
              "      <td>60</td>\n",
              "      <td>RL</td>\n",
              "      <td>65.0</td>\n",
              "      <td>8450</td>\n",
              "      <td>Pave</td>\n",
              "      <td>NaN</td>\n",
              "      <td>Reg</td>\n",
              "      <td>Lvl</td>\n",
              "      <td>AllPub</td>\n",
              "      <td>...</td>\n",
              "      <td>0</td>\n",
              "      <td>NaN</td>\n",
              "      <td>NaN</td>\n",
              "      <td>NaN</td>\n",
              "      <td>0</td>\n",
              "      <td>2</td>\n",
              "      <td>2008</td>\n",
              "      <td>WD</td>\n",
              "      <td>Normal</td>\n",
              "      <td>208500</td>\n",
              "    </tr>\n",
              "    <tr>\n",
              "      <th>1</th>\n",
              "      <td>2</td>\n",
              "      <td>20</td>\n",
              "      <td>RL</td>\n",
              "      <td>80.0</td>\n",
              "      <td>9600</td>\n",
              "      <td>Pave</td>\n",
              "      <td>NaN</td>\n",
              "      <td>Reg</td>\n",
              "      <td>Lvl</td>\n",
              "      <td>AllPub</td>\n",
              "      <td>...</td>\n",
              "      <td>0</td>\n",
              "      <td>NaN</td>\n",
              "      <td>NaN</td>\n",
              "      <td>NaN</td>\n",
              "      <td>0</td>\n",
              "      <td>5</td>\n",
              "      <td>2007</td>\n",
              "      <td>WD</td>\n",
              "      <td>Normal</td>\n",
              "      <td>181500</td>\n",
              "    </tr>\n",
              "    <tr>\n",
              "      <th>2</th>\n",
              "      <td>3</td>\n",
              "      <td>60</td>\n",
              "      <td>RL</td>\n",
              "      <td>68.0</td>\n",
              "      <td>11250</td>\n",
              "      <td>Pave</td>\n",
              "      <td>NaN</td>\n",
              "      <td>IR1</td>\n",
              "      <td>Lvl</td>\n",
              "      <td>AllPub</td>\n",
              "      <td>...</td>\n",
              "      <td>0</td>\n",
              "      <td>NaN</td>\n",
              "      <td>NaN</td>\n",
              "      <td>NaN</td>\n",
              "      <td>0</td>\n",
              "      <td>9</td>\n",
              "      <td>2008</td>\n",
              "      <td>WD</td>\n",
              "      <td>Normal</td>\n",
              "      <td>223500</td>\n",
              "    </tr>\n",
              "    <tr>\n",
              "      <th>3</th>\n",
              "      <td>4</td>\n",
              "      <td>70</td>\n",
              "      <td>RL</td>\n",
              "      <td>60.0</td>\n",
              "      <td>9550</td>\n",
              "      <td>Pave</td>\n",
              "      <td>NaN</td>\n",
              "      <td>IR1</td>\n",
              "      <td>Lvl</td>\n",
              "      <td>AllPub</td>\n",
              "      <td>...</td>\n",
              "      <td>0</td>\n",
              "      <td>NaN</td>\n",
              "      <td>NaN</td>\n",
              "      <td>NaN</td>\n",
              "      <td>0</td>\n",
              "      <td>2</td>\n",
              "      <td>2006</td>\n",
              "      <td>WD</td>\n",
              "      <td>Abnorml</td>\n",
              "      <td>140000</td>\n",
              "    </tr>\n",
              "    <tr>\n",
              "      <th>4</th>\n",
              "      <td>5</td>\n",
              "      <td>60</td>\n",
              "      <td>RL</td>\n",
              "      <td>84.0</td>\n",
              "      <td>14260</td>\n",
              "      <td>Pave</td>\n",
              "      <td>NaN</td>\n",
              "      <td>IR1</td>\n",
              "      <td>Lvl</td>\n",
              "      <td>AllPub</td>\n",
              "      <td>...</td>\n",
              "      <td>0</td>\n",
              "      <td>NaN</td>\n",
              "      <td>NaN</td>\n",
              "      <td>NaN</td>\n",
              "      <td>0</td>\n",
              "      <td>12</td>\n",
              "      <td>2008</td>\n",
              "      <td>WD</td>\n",
              "      <td>Normal</td>\n",
              "      <td>250000</td>\n",
              "    </tr>\n",
              "  </tbody>\n",
              "</table>\n",
              "<p>5 rows × 81 columns</p>\n",
              "</div>\n",
              "      <button class=\"colab-df-convert\" onclick=\"convertToInteractive('df-bb81bad6-7da0-4cb5-b07e-a513fad5f18e')\"\n",
              "              title=\"Convert this dataframe to an interactive table.\"\n",
              "              style=\"display:none;\">\n",
              "        \n",
              "  <svg xmlns=\"http://www.w3.org/2000/svg\" height=\"24px\"viewBox=\"0 0 24 24\"\n",
              "       width=\"24px\">\n",
              "    <path d=\"M0 0h24v24H0V0z\" fill=\"none\"/>\n",
              "    <path d=\"M18.56 5.44l.94 2.06.94-2.06 2.06-.94-2.06-.94-.94-2.06-.94 2.06-2.06.94zm-11 1L8.5 8.5l.94-2.06 2.06-.94-2.06-.94L8.5 2.5l-.94 2.06-2.06.94zm10 10l.94 2.06.94-2.06 2.06-.94-2.06-.94-.94-2.06-.94 2.06-2.06.94z\"/><path d=\"M17.41 7.96l-1.37-1.37c-.4-.4-.92-.59-1.43-.59-.52 0-1.04.2-1.43.59L10.3 9.45l-7.72 7.72c-.78.78-.78 2.05 0 2.83L4 21.41c.39.39.9.59 1.41.59.51 0 1.02-.2 1.41-.59l7.78-7.78 2.81-2.81c.8-.78.8-2.07 0-2.86zM5.41 20L4 18.59l7.72-7.72 1.47 1.35L5.41 20z\"/>\n",
              "  </svg>\n",
              "      </button>\n",
              "      \n",
              "  <style>\n",
              "    .colab-df-container {\n",
              "      display:flex;\n",
              "      flex-wrap:wrap;\n",
              "      gap: 12px;\n",
              "    }\n",
              "\n",
              "    .colab-df-convert {\n",
              "      background-color: #E8F0FE;\n",
              "      border: none;\n",
              "      border-radius: 50%;\n",
              "      cursor: pointer;\n",
              "      display: none;\n",
              "      fill: #1967D2;\n",
              "      height: 32px;\n",
              "      padding: 0 0 0 0;\n",
              "      width: 32px;\n",
              "    }\n",
              "\n",
              "    .colab-df-convert:hover {\n",
              "      background-color: #E2EBFA;\n",
              "      box-shadow: 0px 1px 2px rgba(60, 64, 67, 0.3), 0px 1px 3px 1px rgba(60, 64, 67, 0.15);\n",
              "      fill: #174EA6;\n",
              "    }\n",
              "\n",
              "    [theme=dark] .colab-df-convert {\n",
              "      background-color: #3B4455;\n",
              "      fill: #D2E3FC;\n",
              "    }\n",
              "\n",
              "    [theme=dark] .colab-df-convert:hover {\n",
              "      background-color: #434B5C;\n",
              "      box-shadow: 0px 1px 3px 1px rgba(0, 0, 0, 0.15);\n",
              "      filter: drop-shadow(0px 1px 2px rgba(0, 0, 0, 0.3));\n",
              "      fill: #FFFFFF;\n",
              "    }\n",
              "  </style>\n",
              "\n",
              "      <script>\n",
              "        const buttonEl =\n",
              "          document.querySelector('#df-bb81bad6-7da0-4cb5-b07e-a513fad5f18e button.colab-df-convert');\n",
              "        buttonEl.style.display =\n",
              "          google.colab.kernel.accessAllowed ? 'block' : 'none';\n",
              "\n",
              "        async function convertToInteractive(key) {\n",
              "          const element = document.querySelector('#df-bb81bad6-7da0-4cb5-b07e-a513fad5f18e');\n",
              "          const dataTable =\n",
              "            await google.colab.kernel.invokeFunction('convertToInteractive',\n",
              "                                                     [key], {});\n",
              "          if (!dataTable) return;\n",
              "\n",
              "          const docLinkHtml = 'Like what you see? Visit the ' +\n",
              "            '<a target=\"_blank\" href=https://colab.research.google.com/notebooks/data_table.ipynb>data table notebook</a>'\n",
              "            + ' to learn more about interactive tables.';\n",
              "          element.innerHTML = '';\n",
              "          dataTable['output_type'] = 'display_data';\n",
              "          await google.colab.output.renderOutput(dataTable, element);\n",
              "          const docLink = document.createElement('div');\n",
              "          docLink.innerHTML = docLinkHtml;\n",
              "          element.appendChild(docLink);\n",
              "        }\n",
              "      </script>\n",
              "    </div>\n",
              "  </div>\n",
              "  "
            ]
          },
          "metadata": {},
          "execution_count": 5
        }
      ]
    },
    {
      "cell_type": "code",
      "source": [
        "df_test = pd.read_csv('test.csv')"
      ],
      "metadata": {
        "id": "LEl3O-AtFLih"
      },
      "execution_count": null,
      "outputs": []
    },
    {
      "cell_type": "code",
      "source": [
        "df_test.head()"
      ],
      "metadata": {
        "colab": {
          "base_uri": "https://localhost:8080/",
          "height": 299
        },
        "id": "ukpQOBykFLm3",
        "outputId": "c4a4c446-b83c-4412-c1cb-dcdcbffa6eff"
      },
      "execution_count": null,
      "outputs": [
        {
          "output_type": "execute_result",
          "data": {
            "text/plain": [
              "     Id  MSSubClass MSZoning  LotFrontage  LotArea Street Alley LotShape  \\\n",
              "0  1461          20       RH         80.0    11622   Pave   NaN      Reg   \n",
              "1  1462          20       RL         81.0    14267   Pave   NaN      IR1   \n",
              "2  1463          60       RL         74.0    13830   Pave   NaN      IR1   \n",
              "3  1464          60       RL         78.0     9978   Pave   NaN      IR1   \n",
              "4  1465         120       RL         43.0     5005   Pave   NaN      IR1   \n",
              "\n",
              "  LandContour Utilities  ... ScreenPorch PoolArea PoolQC  Fence MiscFeature  \\\n",
              "0         Lvl    AllPub  ...         120        0    NaN  MnPrv         NaN   \n",
              "1         Lvl    AllPub  ...           0        0    NaN    NaN        Gar2   \n",
              "2         Lvl    AllPub  ...           0        0    NaN  MnPrv         NaN   \n",
              "3         Lvl    AllPub  ...           0        0    NaN    NaN         NaN   \n",
              "4         HLS    AllPub  ...         144        0    NaN    NaN         NaN   \n",
              "\n",
              "  MiscVal MoSold  YrSold  SaleType  SaleCondition  \n",
              "0       0      6    2010        WD         Normal  \n",
              "1   12500      6    2010        WD         Normal  \n",
              "2       0      3    2010        WD         Normal  \n",
              "3       0      6    2010        WD         Normal  \n",
              "4       0      1    2010        WD         Normal  \n",
              "\n",
              "[5 rows x 80 columns]"
            ],
            "text/html": [
              "\n",
              "  <div id=\"df-ccd98ac4-38ec-4e7c-9397-ede2a4ab31df\">\n",
              "    <div class=\"colab-df-container\">\n",
              "      <div>\n",
              "<style scoped>\n",
              "    .dataframe tbody tr th:only-of-type {\n",
              "        vertical-align: middle;\n",
              "    }\n",
              "\n",
              "    .dataframe tbody tr th {\n",
              "        vertical-align: top;\n",
              "    }\n",
              "\n",
              "    .dataframe thead th {\n",
              "        text-align: right;\n",
              "    }\n",
              "</style>\n",
              "<table border=\"1\" class=\"dataframe\">\n",
              "  <thead>\n",
              "    <tr style=\"text-align: right;\">\n",
              "      <th></th>\n",
              "      <th>Id</th>\n",
              "      <th>MSSubClass</th>\n",
              "      <th>MSZoning</th>\n",
              "      <th>LotFrontage</th>\n",
              "      <th>LotArea</th>\n",
              "      <th>Street</th>\n",
              "      <th>Alley</th>\n",
              "      <th>LotShape</th>\n",
              "      <th>LandContour</th>\n",
              "      <th>Utilities</th>\n",
              "      <th>...</th>\n",
              "      <th>ScreenPorch</th>\n",
              "      <th>PoolArea</th>\n",
              "      <th>PoolQC</th>\n",
              "      <th>Fence</th>\n",
              "      <th>MiscFeature</th>\n",
              "      <th>MiscVal</th>\n",
              "      <th>MoSold</th>\n",
              "      <th>YrSold</th>\n",
              "      <th>SaleType</th>\n",
              "      <th>SaleCondition</th>\n",
              "    </tr>\n",
              "  </thead>\n",
              "  <tbody>\n",
              "    <tr>\n",
              "      <th>0</th>\n",
              "      <td>1461</td>\n",
              "      <td>20</td>\n",
              "      <td>RH</td>\n",
              "      <td>80.0</td>\n",
              "      <td>11622</td>\n",
              "      <td>Pave</td>\n",
              "      <td>NaN</td>\n",
              "      <td>Reg</td>\n",
              "      <td>Lvl</td>\n",
              "      <td>AllPub</td>\n",
              "      <td>...</td>\n",
              "      <td>120</td>\n",
              "      <td>0</td>\n",
              "      <td>NaN</td>\n",
              "      <td>MnPrv</td>\n",
              "      <td>NaN</td>\n",
              "      <td>0</td>\n",
              "      <td>6</td>\n",
              "      <td>2010</td>\n",
              "      <td>WD</td>\n",
              "      <td>Normal</td>\n",
              "    </tr>\n",
              "    <tr>\n",
              "      <th>1</th>\n",
              "      <td>1462</td>\n",
              "      <td>20</td>\n",
              "      <td>RL</td>\n",
              "      <td>81.0</td>\n",
              "      <td>14267</td>\n",
              "      <td>Pave</td>\n",
              "      <td>NaN</td>\n",
              "      <td>IR1</td>\n",
              "      <td>Lvl</td>\n",
              "      <td>AllPub</td>\n",
              "      <td>...</td>\n",
              "      <td>0</td>\n",
              "      <td>0</td>\n",
              "      <td>NaN</td>\n",
              "      <td>NaN</td>\n",
              "      <td>Gar2</td>\n",
              "      <td>12500</td>\n",
              "      <td>6</td>\n",
              "      <td>2010</td>\n",
              "      <td>WD</td>\n",
              "      <td>Normal</td>\n",
              "    </tr>\n",
              "    <tr>\n",
              "      <th>2</th>\n",
              "      <td>1463</td>\n",
              "      <td>60</td>\n",
              "      <td>RL</td>\n",
              "      <td>74.0</td>\n",
              "      <td>13830</td>\n",
              "      <td>Pave</td>\n",
              "      <td>NaN</td>\n",
              "      <td>IR1</td>\n",
              "      <td>Lvl</td>\n",
              "      <td>AllPub</td>\n",
              "      <td>...</td>\n",
              "      <td>0</td>\n",
              "      <td>0</td>\n",
              "      <td>NaN</td>\n",
              "      <td>MnPrv</td>\n",
              "      <td>NaN</td>\n",
              "      <td>0</td>\n",
              "      <td>3</td>\n",
              "      <td>2010</td>\n",
              "      <td>WD</td>\n",
              "      <td>Normal</td>\n",
              "    </tr>\n",
              "    <tr>\n",
              "      <th>3</th>\n",
              "      <td>1464</td>\n",
              "      <td>60</td>\n",
              "      <td>RL</td>\n",
              "      <td>78.0</td>\n",
              "      <td>9978</td>\n",
              "      <td>Pave</td>\n",
              "      <td>NaN</td>\n",
              "      <td>IR1</td>\n",
              "      <td>Lvl</td>\n",
              "      <td>AllPub</td>\n",
              "      <td>...</td>\n",
              "      <td>0</td>\n",
              "      <td>0</td>\n",
              "      <td>NaN</td>\n",
              "      <td>NaN</td>\n",
              "      <td>NaN</td>\n",
              "      <td>0</td>\n",
              "      <td>6</td>\n",
              "      <td>2010</td>\n",
              "      <td>WD</td>\n",
              "      <td>Normal</td>\n",
              "    </tr>\n",
              "    <tr>\n",
              "      <th>4</th>\n",
              "      <td>1465</td>\n",
              "      <td>120</td>\n",
              "      <td>RL</td>\n",
              "      <td>43.0</td>\n",
              "      <td>5005</td>\n",
              "      <td>Pave</td>\n",
              "      <td>NaN</td>\n",
              "      <td>IR1</td>\n",
              "      <td>HLS</td>\n",
              "      <td>AllPub</td>\n",
              "      <td>...</td>\n",
              "      <td>144</td>\n",
              "      <td>0</td>\n",
              "      <td>NaN</td>\n",
              "      <td>NaN</td>\n",
              "      <td>NaN</td>\n",
              "      <td>0</td>\n",
              "      <td>1</td>\n",
              "      <td>2010</td>\n",
              "      <td>WD</td>\n",
              "      <td>Normal</td>\n",
              "    </tr>\n",
              "  </tbody>\n",
              "</table>\n",
              "<p>5 rows × 80 columns</p>\n",
              "</div>\n",
              "      <button class=\"colab-df-convert\" onclick=\"convertToInteractive('df-ccd98ac4-38ec-4e7c-9397-ede2a4ab31df')\"\n",
              "              title=\"Convert this dataframe to an interactive table.\"\n",
              "              style=\"display:none;\">\n",
              "        \n",
              "  <svg xmlns=\"http://www.w3.org/2000/svg\" height=\"24px\"viewBox=\"0 0 24 24\"\n",
              "       width=\"24px\">\n",
              "    <path d=\"M0 0h24v24H0V0z\" fill=\"none\"/>\n",
              "    <path d=\"M18.56 5.44l.94 2.06.94-2.06 2.06-.94-2.06-.94-.94-2.06-.94 2.06-2.06.94zm-11 1L8.5 8.5l.94-2.06 2.06-.94-2.06-.94L8.5 2.5l-.94 2.06-2.06.94zm10 10l.94 2.06.94-2.06 2.06-.94-2.06-.94-.94-2.06-.94 2.06-2.06.94z\"/><path d=\"M17.41 7.96l-1.37-1.37c-.4-.4-.92-.59-1.43-.59-.52 0-1.04.2-1.43.59L10.3 9.45l-7.72 7.72c-.78.78-.78 2.05 0 2.83L4 21.41c.39.39.9.59 1.41.59.51 0 1.02-.2 1.41-.59l7.78-7.78 2.81-2.81c.8-.78.8-2.07 0-2.86zM5.41 20L4 18.59l7.72-7.72 1.47 1.35L5.41 20z\"/>\n",
              "  </svg>\n",
              "      </button>\n",
              "      \n",
              "  <style>\n",
              "    .colab-df-container {\n",
              "      display:flex;\n",
              "      flex-wrap:wrap;\n",
              "      gap: 12px;\n",
              "    }\n",
              "\n",
              "    .colab-df-convert {\n",
              "      background-color: #E8F0FE;\n",
              "      border: none;\n",
              "      border-radius: 50%;\n",
              "      cursor: pointer;\n",
              "      display: none;\n",
              "      fill: #1967D2;\n",
              "      height: 32px;\n",
              "      padding: 0 0 0 0;\n",
              "      width: 32px;\n",
              "    }\n",
              "\n",
              "    .colab-df-convert:hover {\n",
              "      background-color: #E2EBFA;\n",
              "      box-shadow: 0px 1px 2px rgba(60, 64, 67, 0.3), 0px 1px 3px 1px rgba(60, 64, 67, 0.15);\n",
              "      fill: #174EA6;\n",
              "    }\n",
              "\n",
              "    [theme=dark] .colab-df-convert {\n",
              "      background-color: #3B4455;\n",
              "      fill: #D2E3FC;\n",
              "    }\n",
              "\n",
              "    [theme=dark] .colab-df-convert:hover {\n",
              "      background-color: #434B5C;\n",
              "      box-shadow: 0px 1px 3px 1px rgba(0, 0, 0, 0.15);\n",
              "      filter: drop-shadow(0px 1px 2px rgba(0, 0, 0, 0.3));\n",
              "      fill: #FFFFFF;\n",
              "    }\n",
              "  </style>\n",
              "\n",
              "      <script>\n",
              "        const buttonEl =\n",
              "          document.querySelector('#df-ccd98ac4-38ec-4e7c-9397-ede2a4ab31df button.colab-df-convert');\n",
              "        buttonEl.style.display =\n",
              "          google.colab.kernel.accessAllowed ? 'block' : 'none';\n",
              "\n",
              "        async function convertToInteractive(key) {\n",
              "          const element = document.querySelector('#df-ccd98ac4-38ec-4e7c-9397-ede2a4ab31df');\n",
              "          const dataTable =\n",
              "            await google.colab.kernel.invokeFunction('convertToInteractive',\n",
              "                                                     [key], {});\n",
              "          if (!dataTable) return;\n",
              "\n",
              "          const docLinkHtml = 'Like what you see? Visit the ' +\n",
              "            '<a target=\"_blank\" href=https://colab.research.google.com/notebooks/data_table.ipynb>data table notebook</a>'\n",
              "            + ' to learn more about interactive tables.';\n",
              "          element.innerHTML = '';\n",
              "          dataTable['output_type'] = 'display_data';\n",
              "          await google.colab.output.renderOutput(dataTable, element);\n",
              "          const docLink = document.createElement('div');\n",
              "          docLink.innerHTML = docLinkHtml;\n",
              "          element.appendChild(docLink);\n",
              "        }\n",
              "      </script>\n",
              "    </div>\n",
              "  </div>\n",
              "  "
            ]
          },
          "metadata": {},
          "execution_count": 7
        }
      ]
    },
    {
      "cell_type": "markdown",
      "source": [
        "### Preliminary Data Analysis"
      ],
      "metadata": {
        "id": "YDn6pwY99b35"
      }
    },
    {
      "cell_type": "code",
      "source": [
        "df_train.describe()"
      ],
      "metadata": {
        "colab": {
          "base_uri": "https://localhost:8080/",
          "height": 394
        },
        "id": "Dk_sxIf2UjH-",
        "outputId": "2b608e02-42e7-4c61-f310-ec2ca2ba9f63"
      },
      "execution_count": null,
      "outputs": [
        {
          "output_type": "execute_result",
          "data": {
            "text/plain": [
              "                Id   MSSubClass  LotFrontage        LotArea  OverallQual  \\\n",
              "count  1460.000000  1460.000000  1201.000000    1460.000000  1460.000000   \n",
              "mean    730.500000    56.897260    70.049958   10516.828082     6.099315   \n",
              "std     421.610009    42.300571    24.284752    9981.264932     1.382997   \n",
              "min       1.000000    20.000000    21.000000    1300.000000     1.000000   \n",
              "25%     365.750000    20.000000    59.000000    7553.500000     5.000000   \n",
              "50%     730.500000    50.000000    69.000000    9478.500000     6.000000   \n",
              "75%    1095.250000    70.000000    80.000000   11601.500000     7.000000   \n",
              "max    1460.000000   190.000000   313.000000  215245.000000    10.000000   \n",
              "\n",
              "       OverallCond    YearBuilt  YearRemodAdd   MasVnrArea   BsmtFinSF1  ...  \\\n",
              "count  1460.000000  1460.000000   1460.000000  1452.000000  1460.000000  ...   \n",
              "mean      5.575342  1971.267808   1984.865753   103.685262   443.639726  ...   \n",
              "std       1.112799    30.202904     20.645407   181.066207   456.098091  ...   \n",
              "min       1.000000  1872.000000   1950.000000     0.000000     0.000000  ...   \n",
              "25%       5.000000  1954.000000   1967.000000     0.000000     0.000000  ...   \n",
              "50%       5.000000  1973.000000   1994.000000     0.000000   383.500000  ...   \n",
              "75%       6.000000  2000.000000   2004.000000   166.000000   712.250000  ...   \n",
              "max       9.000000  2010.000000   2010.000000  1600.000000  5644.000000  ...   \n",
              "\n",
              "        WoodDeckSF  OpenPorchSF  EnclosedPorch    3SsnPorch  ScreenPorch  \\\n",
              "count  1460.000000  1460.000000    1460.000000  1460.000000  1460.000000   \n",
              "mean     94.244521    46.660274      21.954110     3.409589    15.060959   \n",
              "std     125.338794    66.256028      61.119149    29.317331    55.757415   \n",
              "min       0.000000     0.000000       0.000000     0.000000     0.000000   \n",
              "25%       0.000000     0.000000       0.000000     0.000000     0.000000   \n",
              "50%       0.000000    25.000000       0.000000     0.000000     0.000000   \n",
              "75%     168.000000    68.000000       0.000000     0.000000     0.000000   \n",
              "max     857.000000   547.000000     552.000000   508.000000   480.000000   \n",
              "\n",
              "          PoolArea       MiscVal       MoSold       YrSold      SalePrice  \n",
              "count  1460.000000   1460.000000  1460.000000  1460.000000    1460.000000  \n",
              "mean      2.758904     43.489041     6.321918  2007.815753  180921.195890  \n",
              "std      40.177307    496.123024     2.703626     1.328095   79442.502883  \n",
              "min       0.000000      0.000000     1.000000  2006.000000   34900.000000  \n",
              "25%       0.000000      0.000000     5.000000  2007.000000  129975.000000  \n",
              "50%       0.000000      0.000000     6.000000  2008.000000  163000.000000  \n",
              "75%       0.000000      0.000000     8.000000  2009.000000  214000.000000  \n",
              "max     738.000000  15500.000000    12.000000  2010.000000  755000.000000  \n",
              "\n",
              "[8 rows x 38 columns]"
            ],
            "text/html": [
              "\n",
              "  <div id=\"df-0819893e-d923-4065-beec-e6ae12141ba5\">\n",
              "    <div class=\"colab-df-container\">\n",
              "      <div>\n",
              "<style scoped>\n",
              "    .dataframe tbody tr th:only-of-type {\n",
              "        vertical-align: middle;\n",
              "    }\n",
              "\n",
              "    .dataframe tbody tr th {\n",
              "        vertical-align: top;\n",
              "    }\n",
              "\n",
              "    .dataframe thead th {\n",
              "        text-align: right;\n",
              "    }\n",
              "</style>\n",
              "<table border=\"1\" class=\"dataframe\">\n",
              "  <thead>\n",
              "    <tr style=\"text-align: right;\">\n",
              "      <th></th>\n",
              "      <th>Id</th>\n",
              "      <th>MSSubClass</th>\n",
              "      <th>LotFrontage</th>\n",
              "      <th>LotArea</th>\n",
              "      <th>OverallQual</th>\n",
              "      <th>OverallCond</th>\n",
              "      <th>YearBuilt</th>\n",
              "      <th>YearRemodAdd</th>\n",
              "      <th>MasVnrArea</th>\n",
              "      <th>BsmtFinSF1</th>\n",
              "      <th>...</th>\n",
              "      <th>WoodDeckSF</th>\n",
              "      <th>OpenPorchSF</th>\n",
              "      <th>EnclosedPorch</th>\n",
              "      <th>3SsnPorch</th>\n",
              "      <th>ScreenPorch</th>\n",
              "      <th>PoolArea</th>\n",
              "      <th>MiscVal</th>\n",
              "      <th>MoSold</th>\n",
              "      <th>YrSold</th>\n",
              "      <th>SalePrice</th>\n",
              "    </tr>\n",
              "  </thead>\n",
              "  <tbody>\n",
              "    <tr>\n",
              "      <th>count</th>\n",
              "      <td>1460.000000</td>\n",
              "      <td>1460.000000</td>\n",
              "      <td>1201.000000</td>\n",
              "      <td>1460.000000</td>\n",
              "      <td>1460.000000</td>\n",
              "      <td>1460.000000</td>\n",
              "      <td>1460.000000</td>\n",
              "      <td>1460.000000</td>\n",
              "      <td>1452.000000</td>\n",
              "      <td>1460.000000</td>\n",
              "      <td>...</td>\n",
              "      <td>1460.000000</td>\n",
              "      <td>1460.000000</td>\n",
              "      <td>1460.000000</td>\n",
              "      <td>1460.000000</td>\n",
              "      <td>1460.000000</td>\n",
              "      <td>1460.000000</td>\n",
              "      <td>1460.000000</td>\n",
              "      <td>1460.000000</td>\n",
              "      <td>1460.000000</td>\n",
              "      <td>1460.000000</td>\n",
              "    </tr>\n",
              "    <tr>\n",
              "      <th>mean</th>\n",
              "      <td>730.500000</td>\n",
              "      <td>56.897260</td>\n",
              "      <td>70.049958</td>\n",
              "      <td>10516.828082</td>\n",
              "      <td>6.099315</td>\n",
              "      <td>5.575342</td>\n",
              "      <td>1971.267808</td>\n",
              "      <td>1984.865753</td>\n",
              "      <td>103.685262</td>\n",
              "      <td>443.639726</td>\n",
              "      <td>...</td>\n",
              "      <td>94.244521</td>\n",
              "      <td>46.660274</td>\n",
              "      <td>21.954110</td>\n",
              "      <td>3.409589</td>\n",
              "      <td>15.060959</td>\n",
              "      <td>2.758904</td>\n",
              "      <td>43.489041</td>\n",
              "      <td>6.321918</td>\n",
              "      <td>2007.815753</td>\n",
              "      <td>180921.195890</td>\n",
              "    </tr>\n",
              "    <tr>\n",
              "      <th>std</th>\n",
              "      <td>421.610009</td>\n",
              "      <td>42.300571</td>\n",
              "      <td>24.284752</td>\n",
              "      <td>9981.264932</td>\n",
              "      <td>1.382997</td>\n",
              "      <td>1.112799</td>\n",
              "      <td>30.202904</td>\n",
              "      <td>20.645407</td>\n",
              "      <td>181.066207</td>\n",
              "      <td>456.098091</td>\n",
              "      <td>...</td>\n",
              "      <td>125.338794</td>\n",
              "      <td>66.256028</td>\n",
              "      <td>61.119149</td>\n",
              "      <td>29.317331</td>\n",
              "      <td>55.757415</td>\n",
              "      <td>40.177307</td>\n",
              "      <td>496.123024</td>\n",
              "      <td>2.703626</td>\n",
              "      <td>1.328095</td>\n",
              "      <td>79442.502883</td>\n",
              "    </tr>\n",
              "    <tr>\n",
              "      <th>min</th>\n",
              "      <td>1.000000</td>\n",
              "      <td>20.000000</td>\n",
              "      <td>21.000000</td>\n",
              "      <td>1300.000000</td>\n",
              "      <td>1.000000</td>\n",
              "      <td>1.000000</td>\n",
              "      <td>1872.000000</td>\n",
              "      <td>1950.000000</td>\n",
              "      <td>0.000000</td>\n",
              "      <td>0.000000</td>\n",
              "      <td>...</td>\n",
              "      <td>0.000000</td>\n",
              "      <td>0.000000</td>\n",
              "      <td>0.000000</td>\n",
              "      <td>0.000000</td>\n",
              "      <td>0.000000</td>\n",
              "      <td>0.000000</td>\n",
              "      <td>0.000000</td>\n",
              "      <td>1.000000</td>\n",
              "      <td>2006.000000</td>\n",
              "      <td>34900.000000</td>\n",
              "    </tr>\n",
              "    <tr>\n",
              "      <th>25%</th>\n",
              "      <td>365.750000</td>\n",
              "      <td>20.000000</td>\n",
              "      <td>59.000000</td>\n",
              "      <td>7553.500000</td>\n",
              "      <td>5.000000</td>\n",
              "      <td>5.000000</td>\n",
              "      <td>1954.000000</td>\n",
              "      <td>1967.000000</td>\n",
              "      <td>0.000000</td>\n",
              "      <td>0.000000</td>\n",
              "      <td>...</td>\n",
              "      <td>0.000000</td>\n",
              "      <td>0.000000</td>\n",
              "      <td>0.000000</td>\n",
              "      <td>0.000000</td>\n",
              "      <td>0.000000</td>\n",
              "      <td>0.000000</td>\n",
              "      <td>0.000000</td>\n",
              "      <td>5.000000</td>\n",
              "      <td>2007.000000</td>\n",
              "      <td>129975.000000</td>\n",
              "    </tr>\n",
              "    <tr>\n",
              "      <th>50%</th>\n",
              "      <td>730.500000</td>\n",
              "      <td>50.000000</td>\n",
              "      <td>69.000000</td>\n",
              "      <td>9478.500000</td>\n",
              "      <td>6.000000</td>\n",
              "      <td>5.000000</td>\n",
              "      <td>1973.000000</td>\n",
              "      <td>1994.000000</td>\n",
              "      <td>0.000000</td>\n",
              "      <td>383.500000</td>\n",
              "      <td>...</td>\n",
              "      <td>0.000000</td>\n",
              "      <td>25.000000</td>\n",
              "      <td>0.000000</td>\n",
              "      <td>0.000000</td>\n",
              "      <td>0.000000</td>\n",
              "      <td>0.000000</td>\n",
              "      <td>0.000000</td>\n",
              "      <td>6.000000</td>\n",
              "      <td>2008.000000</td>\n",
              "      <td>163000.000000</td>\n",
              "    </tr>\n",
              "    <tr>\n",
              "      <th>75%</th>\n",
              "      <td>1095.250000</td>\n",
              "      <td>70.000000</td>\n",
              "      <td>80.000000</td>\n",
              "      <td>11601.500000</td>\n",
              "      <td>7.000000</td>\n",
              "      <td>6.000000</td>\n",
              "      <td>2000.000000</td>\n",
              "      <td>2004.000000</td>\n",
              "      <td>166.000000</td>\n",
              "      <td>712.250000</td>\n",
              "      <td>...</td>\n",
              "      <td>168.000000</td>\n",
              "      <td>68.000000</td>\n",
              "      <td>0.000000</td>\n",
              "      <td>0.000000</td>\n",
              "      <td>0.000000</td>\n",
              "      <td>0.000000</td>\n",
              "      <td>0.000000</td>\n",
              "      <td>8.000000</td>\n",
              "      <td>2009.000000</td>\n",
              "      <td>214000.000000</td>\n",
              "    </tr>\n",
              "    <tr>\n",
              "      <th>max</th>\n",
              "      <td>1460.000000</td>\n",
              "      <td>190.000000</td>\n",
              "      <td>313.000000</td>\n",
              "      <td>215245.000000</td>\n",
              "      <td>10.000000</td>\n",
              "      <td>9.000000</td>\n",
              "      <td>2010.000000</td>\n",
              "      <td>2010.000000</td>\n",
              "      <td>1600.000000</td>\n",
              "      <td>5644.000000</td>\n",
              "      <td>...</td>\n",
              "      <td>857.000000</td>\n",
              "      <td>547.000000</td>\n",
              "      <td>552.000000</td>\n",
              "      <td>508.000000</td>\n",
              "      <td>480.000000</td>\n",
              "      <td>738.000000</td>\n",
              "      <td>15500.000000</td>\n",
              "      <td>12.000000</td>\n",
              "      <td>2010.000000</td>\n",
              "      <td>755000.000000</td>\n",
              "    </tr>\n",
              "  </tbody>\n",
              "</table>\n",
              "<p>8 rows × 38 columns</p>\n",
              "</div>\n",
              "      <button class=\"colab-df-convert\" onclick=\"convertToInteractive('df-0819893e-d923-4065-beec-e6ae12141ba5')\"\n",
              "              title=\"Convert this dataframe to an interactive table.\"\n",
              "              style=\"display:none;\">\n",
              "        \n",
              "  <svg xmlns=\"http://www.w3.org/2000/svg\" height=\"24px\"viewBox=\"0 0 24 24\"\n",
              "       width=\"24px\">\n",
              "    <path d=\"M0 0h24v24H0V0z\" fill=\"none\"/>\n",
              "    <path d=\"M18.56 5.44l.94 2.06.94-2.06 2.06-.94-2.06-.94-.94-2.06-.94 2.06-2.06.94zm-11 1L8.5 8.5l.94-2.06 2.06-.94-2.06-.94L8.5 2.5l-.94 2.06-2.06.94zm10 10l.94 2.06.94-2.06 2.06-.94-2.06-.94-.94-2.06-.94 2.06-2.06.94z\"/><path d=\"M17.41 7.96l-1.37-1.37c-.4-.4-.92-.59-1.43-.59-.52 0-1.04.2-1.43.59L10.3 9.45l-7.72 7.72c-.78.78-.78 2.05 0 2.83L4 21.41c.39.39.9.59 1.41.59.51 0 1.02-.2 1.41-.59l7.78-7.78 2.81-2.81c.8-.78.8-2.07 0-2.86zM5.41 20L4 18.59l7.72-7.72 1.47 1.35L5.41 20z\"/>\n",
              "  </svg>\n",
              "      </button>\n",
              "      \n",
              "  <style>\n",
              "    .colab-df-container {\n",
              "      display:flex;\n",
              "      flex-wrap:wrap;\n",
              "      gap: 12px;\n",
              "    }\n",
              "\n",
              "    .colab-df-convert {\n",
              "      background-color: #E8F0FE;\n",
              "      border: none;\n",
              "      border-radius: 50%;\n",
              "      cursor: pointer;\n",
              "      display: none;\n",
              "      fill: #1967D2;\n",
              "      height: 32px;\n",
              "      padding: 0 0 0 0;\n",
              "      width: 32px;\n",
              "    }\n",
              "\n",
              "    .colab-df-convert:hover {\n",
              "      background-color: #E2EBFA;\n",
              "      box-shadow: 0px 1px 2px rgba(60, 64, 67, 0.3), 0px 1px 3px 1px rgba(60, 64, 67, 0.15);\n",
              "      fill: #174EA6;\n",
              "    }\n",
              "\n",
              "    [theme=dark] .colab-df-convert {\n",
              "      background-color: #3B4455;\n",
              "      fill: #D2E3FC;\n",
              "    }\n",
              "\n",
              "    [theme=dark] .colab-df-convert:hover {\n",
              "      background-color: #434B5C;\n",
              "      box-shadow: 0px 1px 3px 1px rgba(0, 0, 0, 0.15);\n",
              "      filter: drop-shadow(0px 1px 2px rgba(0, 0, 0, 0.3));\n",
              "      fill: #FFFFFF;\n",
              "    }\n",
              "  </style>\n",
              "\n",
              "      <script>\n",
              "        const buttonEl =\n",
              "          document.querySelector('#df-0819893e-d923-4065-beec-e6ae12141ba5 button.colab-df-convert');\n",
              "        buttonEl.style.display =\n",
              "          google.colab.kernel.accessAllowed ? 'block' : 'none';\n",
              "\n",
              "        async function convertToInteractive(key) {\n",
              "          const element = document.querySelector('#df-0819893e-d923-4065-beec-e6ae12141ba5');\n",
              "          const dataTable =\n",
              "            await google.colab.kernel.invokeFunction('convertToInteractive',\n",
              "                                                     [key], {});\n",
              "          if (!dataTable) return;\n",
              "\n",
              "          const docLinkHtml = 'Like what you see? Visit the ' +\n",
              "            '<a target=\"_blank\" href=https://colab.research.google.com/notebooks/data_table.ipynb>data table notebook</a>'\n",
              "            + ' to learn more about interactive tables.';\n",
              "          element.innerHTML = '';\n",
              "          dataTable['output_type'] = 'display_data';\n",
              "          await google.colab.output.renderOutput(dataTable, element);\n",
              "          const docLink = document.createElement('div');\n",
              "          docLink.innerHTML = docLinkHtml;\n",
              "          element.appendChild(docLink);\n",
              "        }\n",
              "      </script>\n",
              "    </div>\n",
              "  </div>\n",
              "  "
            ]
          },
          "metadata": {},
          "execution_count": 8
        }
      ]
    },
    {
      "cell_type": "code",
      "source": [
        "df_train.info()"
      ],
      "metadata": {
        "colab": {
          "base_uri": "https://localhost:8080/"
        },
        "id": "nApFQZVKUjKC",
        "outputId": "d844e8e5-33aa-44a6-b4ae-a81dfb93f200"
      },
      "execution_count": null,
      "outputs": [
        {
          "output_type": "stream",
          "name": "stdout",
          "text": [
            "<class 'pandas.core.frame.DataFrame'>\n",
            "RangeIndex: 1460 entries, 0 to 1459\n",
            "Data columns (total 81 columns):\n",
            " #   Column         Non-Null Count  Dtype  \n",
            "---  ------         --------------  -----  \n",
            " 0   Id             1460 non-null   int64  \n",
            " 1   MSSubClass     1460 non-null   int64  \n",
            " 2   MSZoning       1460 non-null   object \n",
            " 3   LotFrontage    1201 non-null   float64\n",
            " 4   LotArea        1460 non-null   int64  \n",
            " 5   Street         1460 non-null   object \n",
            " 6   Alley          91 non-null     object \n",
            " 7   LotShape       1460 non-null   object \n",
            " 8   LandContour    1460 non-null   object \n",
            " 9   Utilities      1460 non-null   object \n",
            " 10  LotConfig      1460 non-null   object \n",
            " 11  LandSlope      1460 non-null   object \n",
            " 12  Neighborhood   1460 non-null   object \n",
            " 13  Condition1     1460 non-null   object \n",
            " 14  Condition2     1460 non-null   object \n",
            " 15  BldgType       1460 non-null   object \n",
            " 16  HouseStyle     1460 non-null   object \n",
            " 17  OverallQual    1460 non-null   int64  \n",
            " 18  OverallCond    1460 non-null   int64  \n",
            " 19  YearBuilt      1460 non-null   int64  \n",
            " 20  YearRemodAdd   1460 non-null   int64  \n",
            " 21  RoofStyle      1460 non-null   object \n",
            " 22  RoofMatl       1460 non-null   object \n",
            " 23  Exterior1st    1460 non-null   object \n",
            " 24  Exterior2nd    1460 non-null   object \n",
            " 25  MasVnrType     1452 non-null   object \n",
            " 26  MasVnrArea     1452 non-null   float64\n",
            " 27  ExterQual      1460 non-null   object \n",
            " 28  ExterCond      1460 non-null   object \n",
            " 29  Foundation     1460 non-null   object \n",
            " 30  BsmtQual       1423 non-null   object \n",
            " 31  BsmtCond       1423 non-null   object \n",
            " 32  BsmtExposure   1422 non-null   object \n",
            " 33  BsmtFinType1   1423 non-null   object \n",
            " 34  BsmtFinSF1     1460 non-null   int64  \n",
            " 35  BsmtFinType2   1422 non-null   object \n",
            " 36  BsmtFinSF2     1460 non-null   int64  \n",
            " 37  BsmtUnfSF      1460 non-null   int64  \n",
            " 38  TotalBsmtSF    1460 non-null   int64  \n",
            " 39  Heating        1460 non-null   object \n",
            " 40  HeatingQC      1460 non-null   object \n",
            " 41  CentralAir     1460 non-null   object \n",
            " 42  Electrical     1459 non-null   object \n",
            " 43  1stFlrSF       1460 non-null   int64  \n",
            " 44  2ndFlrSF       1460 non-null   int64  \n",
            " 45  LowQualFinSF   1460 non-null   int64  \n",
            " 46  GrLivArea      1460 non-null   int64  \n",
            " 47  BsmtFullBath   1460 non-null   int64  \n",
            " 48  BsmtHalfBath   1460 non-null   int64  \n",
            " 49  FullBath       1460 non-null   int64  \n",
            " 50  HalfBath       1460 non-null   int64  \n",
            " 51  BedroomAbvGr   1460 non-null   int64  \n",
            " 52  KitchenAbvGr   1460 non-null   int64  \n",
            " 53  KitchenQual    1460 non-null   object \n",
            " 54  TotRmsAbvGrd   1460 non-null   int64  \n",
            " 55  Functional     1460 non-null   object \n",
            " 56  Fireplaces     1460 non-null   int64  \n",
            " 57  FireplaceQu    770 non-null    object \n",
            " 58  GarageType     1379 non-null   object \n",
            " 59  GarageYrBlt    1379 non-null   float64\n",
            " 60  GarageFinish   1379 non-null   object \n",
            " 61  GarageCars     1460 non-null   int64  \n",
            " 62  GarageArea     1460 non-null   int64  \n",
            " 63  GarageQual     1379 non-null   object \n",
            " 64  GarageCond     1379 non-null   object \n",
            " 65  PavedDrive     1460 non-null   object \n",
            " 66  WoodDeckSF     1460 non-null   int64  \n",
            " 67  OpenPorchSF    1460 non-null   int64  \n",
            " 68  EnclosedPorch  1460 non-null   int64  \n",
            " 69  3SsnPorch      1460 non-null   int64  \n",
            " 70  ScreenPorch    1460 non-null   int64  \n",
            " 71  PoolArea       1460 non-null   int64  \n",
            " 72  PoolQC         7 non-null      object \n",
            " 73  Fence          281 non-null    object \n",
            " 74  MiscFeature    54 non-null     object \n",
            " 75  MiscVal        1460 non-null   int64  \n",
            " 76  MoSold         1460 non-null   int64  \n",
            " 77  YrSold         1460 non-null   int64  \n",
            " 78  SaleType       1460 non-null   object \n",
            " 79  SaleCondition  1460 non-null   object \n",
            " 80  SalePrice      1460 non-null   int64  \n",
            "dtypes: float64(3), int64(35), object(43)\n",
            "memory usage: 924.0+ KB\n"
          ]
        }
      ]
    },
    {
      "cell_type": "code",
      "source": [
        "df_train['SalePrice'].describe()"
      ],
      "metadata": {
        "colab": {
          "base_uri": "https://localhost:8080/"
        },
        "id": "hCPCCTxMWLZq",
        "outputId": "b329dd65-3625-4df0-afba-25c3f64f308e"
      },
      "execution_count": null,
      "outputs": [
        {
          "output_type": "execute_result",
          "data": {
            "text/plain": [
              "count      1460.000000\n",
              "mean     180921.195890\n",
              "std       79442.502883\n",
              "min       34900.000000\n",
              "25%      129975.000000\n",
              "50%      163000.000000\n",
              "75%      214000.000000\n",
              "max      755000.000000\n",
              "Name: SalePrice, dtype: float64"
            ]
          },
          "metadata": {},
          "execution_count": 10
        }
      ]
    },
    {
      "cell_type": "code",
      "source": [
        "#Investigate training data sales price distribution\n",
        "plt.figure(figsize=(8,5))\n",
        "sns.distplot(x = df_train['SalePrice'],bins=30,color='blue')\n",
        "plt.xlabel('Sales Price in USD$')\n",
        "plt.show()"
      ],
      "metadata": {
        "colab": {
          "base_uri": "https://localhost:8080/",
          "height": 400
        },
        "id": "DmrDRdS_IHaO",
        "outputId": "f692084d-08a8-4859-b2c6-972364f54165"
      },
      "execution_count": null,
      "outputs": [
        {
          "output_type": "stream",
          "name": "stderr",
          "text": [
            "/usr/local/lib/python3.7/dist-packages/seaborn/distributions.py:2619: FutureWarning: `distplot` is a deprecated function and will be removed in a future version. Please adapt your code to use either `displot` (a figure-level function with similar flexibility) or `histplot` (an axes-level function for histograms).\n",
            "  warnings.warn(msg, FutureWarning)\n"
          ]
        },
        {
          "output_type": "display_data",
          "data": {
            "text/plain": [
              "<Figure size 576x360 with 1 Axes>"
            ],
            "image/png": "[encoded data removed]"
          },
          "metadata": {
            "needs_background": "light"
          }
        }
      ]
    },
    {
      "cell_type": "code",
      "source": [
        "plt.figure(figsize=(8,5))\n",
        "sns.boxplot(x = df_train['SalePrice'],color='red')\n",
        "plt.xlabel('Sales Price in USD$')\n",
        "plt.show()"
      ],
      "metadata": {
        "colab": {
          "base_uri": "https://localhost:8080/",
          "height": 334
        },
        "id": "FfxttqitI1bf",
        "outputId": "485dc6f1-9b9b-460e-f554-f62c7673be82"
      },
      "execution_count": null,
      "outputs": [
        {
          "output_type": "display_data",
          "data": {
            "text/plain": [
              "<Figure size 576x360 with 1 Axes>"
            ],
            "image/png": "[encoded data removed]"
          },
          "metadata": {
            "needs_background": "light"
          }
        }
      ]
    },
    {
      "cell_type": "code",
      "source": [
        "#Remove two outlier values, as these are likely to skew the models\n",
        "df_train = df_train[df_train['SalePrice']<700000]"
      ],
      "metadata": {
        "id": "ngjril6qMgcy"
      },
      "execution_count": null,
      "outputs": []
    },
    {
      "cell_type": "code",
      "source": [
        "df_train.isnull().sum().sort_values(ascending = False).head(20)"
      ],
      "metadata": {
        "colab": {
          "base_uri": "https://localhost:8080/"
        },
        "id": "FId6DJAhYb8_",
        "outputId": "d69597a2-0d09-471d-c892-dc86c203dda2"
      },
      "execution_count": null,
      "outputs": [
        {
          "output_type": "execute_result",
          "data": {
            "text/plain": [
              "PoolQC          1452\n",
              "MiscFeature     1404\n",
              "Alley           1367\n",
              "Fence           1178\n",
              "FireplaceQu      690\n",
              "LotFrontage      259\n",
              "GarageYrBlt       81\n",
              "GarageCond        81\n",
              "GarageType        81\n",
              "GarageFinish      81\n",
              "GarageQual        81\n",
              "BsmtFinType2      38\n",
              "BsmtExposure      38\n",
              "BsmtQual          37\n",
              "BsmtCond          37\n",
              "BsmtFinType1      37\n",
              "MasVnrArea         8\n",
              "MasVnrType         8\n",
              "Electrical         1\n",
              "Id                 0\n",
              "dtype: int64"
            ]
          },
          "metadata": {},
          "execution_count": 14
        }
      ]
    },
    {
      "cell_type": "code",
      "source": [
        "plt.figure(figsize=(11,5))\n",
        "sns.heatmap(df_train.isnull(),cmap='viridis')"
      ],
      "metadata": {
        "colab": {
          "base_uri": "https://localhost:8080/",
          "height": 407
        },
        "id": "X9iUSK_wdG2k",
        "outputId": "648228e3-806b-4024-ba08-8aa75609bf9a"
      },
      "execution_count": null,
      "outputs": [
        {
          "output_type": "execute_result",
          "data": {
            "text/plain": [
              "<matplotlib.axes._subplots.AxesSubplot at 0x7f111e1f1150>"
            ]
          },
          "metadata": {},
          "execution_count": 15
        },
        {
          "output_type": "display_data",
          "data": {
            "text/plain": [
              "<Figure size 792x360 with 2 Axes>"
            ],
            "image/png": "[encoded data removed]"
          },
          "metadata": {
            "needs_background": "light"
          }
        }
      ]
    },
    {
      "cell_type": "code",
      "source": [
        "#Let's see which variables are most strongly correlated with the sale price\n",
        "df_train.corr().loc['SalePrice'].sort_values(ascending=False).head(18)"
      ],
      "metadata": {
        "colab": {
          "base_uri": "https://localhost:8080/"
        },
        "id": "z_Dk7RzvBMOm",
        "outputId": "77cd838b-7e7b-4877-ac94-0647943f22db"
      },
      "execution_count": null,
      "outputs": [
        {
          "output_type": "execute_result",
          "data": {
            "text/plain": [
              "SalePrice       1.000000\n",
              "OverallQual     0.795998\n",
              "GrLivArea       0.693557\n",
              "GarageCars      0.648619\n",
              "GarageArea      0.631105\n",
              "TotalBsmtSF     0.608769\n",
              "1stFlrSF        0.599437\n",
              "FullBath        0.557558\n",
              "YearBuilt       0.534565\n",
              "TotRmsAbvGrd    0.533410\n",
              "YearRemodAdd    0.520809\n",
              "GarageYrBlt     0.498428\n",
              "MasVnrArea      0.473574\n",
              "Fireplaces      0.463831\n",
              "BsmtFinSF1      0.373394\n",
              "LotFrontage     0.338406\n",
              "OpenPorchSF     0.324981\n",
              "WoodDeckSF      0.322200\n",
              "Name: SalePrice, dtype: float64"
            ]
          },
          "metadata": {},
          "execution_count": 16
        }
      ]
    },
    {
      "cell_type": "code",
      "source": [
        "#Investigate how strongly the variables are correlated with the sale price\n",
        "plt.figure(figsize=(2,8))\n",
        "sns.heatmap(df_train.corr()[['SalePrice']],cmap='viridis')"
      ],
      "metadata": {
        "colab": {
          "base_uri": "https://localhost:8080/",
          "height": 500
        },
        "id": "lIbHLFjsj3Wg",
        "outputId": "797f61a4-7b04-403e-f9f3-c5464e4f2c34"
      },
      "execution_count": null,
      "outputs": [
        {
          "output_type": "execute_result",
          "data": {
            "text/plain": [
              "<matplotlib.axes._subplots.AxesSubplot at 0x7f111b82d610>"
            ]
          },
          "metadata": {},
          "execution_count": 17
        },
        {
          "output_type": "display_data",
          "data": {
            "text/plain": [
              "<Figure size 144x576 with 2 Axes>"
            ],
            "image/png": "[encoded data removed]"
          },
          "metadata": {
            "needs_background": "light"
          }
        }
      ]
    },
    {
      "cell_type": "code",
      "source": [
        "year = df_train.groupby('YrSold')['SalePrice'].mean()\n",
        "year"
      ],
      "metadata": {
        "colab": {
          "base_uri": "https://localhost:8080/"
        },
        "id": "3kHgrxq8hRSD",
        "outputId": "07a7cbfe-9d60-4fd9-95df-d76a4fe6b3f8"
      },
      "execution_count": null,
      "outputs": [
        {
          "output_type": "execute_result",
          "data": {
            "text/plain": [
              "YrSold\n",
              "2006    182549.458599\n",
              "2007    182613.996942\n",
              "2008    177360.838816\n",
              "2009    179432.103550\n",
              "2010    177393.674286\n",
              "Name: SalePrice, dtype: float64"
            ]
          },
          "metadata": {},
          "execution_count": 17
        }
      ]
    },
    {
      "cell_type": "code",
      "source": [
        "plt.figure(figsize=(10,5))\n",
        "sns.barplot(x = 'YrSold', y = 'SalePrice', data = df_train)\n",
        "plt.show()"
      ],
      "metadata": {
        "colab": {
          "base_uri": "https://localhost:8080/",
          "height": 337
        },
        "id": "a82BAZQ0eOvC",
        "outputId": "71a492a8-b8cb-42e8-86e3-4d76a8f4ded2"
      },
      "execution_count": null,
      "outputs": [
        {
          "output_type": "display_data",
          "data": {
            "text/plain": [
              "<Figure size 720x360 with 1 Axes>"
            ],
            "image/png": "[encoded data removed]"
          },
          "metadata": {
            "needs_background": "light"
          }
        }
      ]
    },
    {
      "cell_type": "code",
      "source": [
        "plt.figure(figsize=(10,5))\n",
        "sns.barplot(x = 'MoSold', y = 'SalePrice', data = df_train)\n",
        "plt.show()"
      ],
      "metadata": {
        "colab": {
          "base_uri": "https://localhost:8080/",
          "height": 334
        },
        "id": "WLk9nc1iiRd5",
        "outputId": "6a3e89fe-288c-44b4-bb4b-bbb7b454321e"
      },
      "execution_count": null,
      "outputs": [
        {
          "output_type": "display_data",
          "data": {
            "text/plain": [
              "<Figure size 720x360 with 1 Axes>"
            ],
            "image/png": "[encoded data removed]"
          },
          "metadata": {
            "needs_background": "light"
          }
        }
      ]
    },
    {
      "cell_type": "code",
      "source": [
        "plt.figure(figsize=(10,5))\n",
        "sns.barplot(x = 'TotRmsAbvGrd', y = 'SalePrice', data = df_train)\n",
        "plt.show()"
      ],
      "metadata": {
        "colab": {
          "base_uri": "https://localhost:8080/",
          "height": 334
        },
        "id": "3aotD6XZf9MT",
        "outputId": "e0c20695-525e-4bf9-f564-c312a143a044"
      },
      "execution_count": null,
      "outputs": [
        {
          "output_type": "display_data",
          "data": {
            "text/plain": [
              "<Figure size 720x360 with 1 Axes>"
            ],
            "image/png": "[encoded data removed]"
          },
          "metadata": {
            "needs_background": "light"
          }
        }
      ]
    },
    {
      "cell_type": "code",
      "source": [
        "plt.figure(figsize=(10,5))\n",
        "sns.barplot(x = 'OverallQual', y = 'SalePrice', data = df_train)\n",
        "plt.show()"
      ],
      "metadata": {
        "colab": {
          "base_uri": "https://localhost:8080/",
          "height": 334
        },
        "id": "zkBrNQsIil10",
        "outputId": "0e6463ff-fc68-4785-e142-c7f425d11dbc"
      },
      "execution_count": null,
      "outputs": [
        {
          "output_type": "display_data",
          "data": {
            "text/plain": [
              "<Figure size 720x360 with 1 Axes>"
            ],
            "image/png": "[encoded data removed]"
          },
          "metadata": {
            "needs_background": "light"
          }
        }
      ]
    },
    {
      "cell_type": "code",
      "source": [
        "X = df_train[['OverallQual', 'GrLivArea', 'GarageCars', 'GarageArea', 'TotalBsmtSF', '1stFlrSF', 'FullBath', 'TotRmsAbvGrd', 'YearBuilt', \n",
        "              'YearRemodAdd', 'GarageYrBlt', 'MasVnrArea', 'Fireplaces', 'BsmtFinSF1', 'LotFrontage', 'WoodDeckSF', '2ndFlrSF']]\n",
        "X.head()"
      ],
      "metadata": {
        "colab": {
          "base_uri": "https://localhost:8080/",
          "height": 270
        },
        "id": "75HiWBHzipbq",
        "outputId": "1981247d-c37a-49b6-fdbf-c9921426c53b"
      },
      "execution_count": null,
      "outputs": [
        {
          "output_type": "execute_result",
          "data": {
            "text/plain": [
              "   OverallQual  GrLivArea  GarageCars  GarageArea  TotalBsmtSF  1stFlrSF  \\\n",
              "0            7       1710           2         548          856       856   \n",
              "1            6       1262           2         460         1262      1262   \n",
              "2            7       1786           2         608          920       920   \n",
              "3            7       1717           3         642          756       961   \n",
              "4            8       2198           3         836         1145      1145   \n",
              "\n",
              "   FullBath  TotRmsAbvGrd  YearBuilt  YearRemodAdd  GarageYrBlt  MasVnrArea  \\\n",
              "0         2             8       2003          2003       2003.0       196.0   \n",
              "1         2             6       1976          1976       1976.0         0.0   \n",
              "2         2             6       2001          2002       2001.0       162.0   \n",
              "3         1             7       1915          1970       1998.0         0.0   \n",
              "4         2             9       2000          2000       2000.0       350.0   \n",
              "\n",
              "   Fireplaces  BsmtFinSF1  LotFrontage  WoodDeckSF  2ndFlrSF  \n",
              "0           0         706         65.0           0       854  \n",
              "1           1         978         80.0         298         0  \n",
              "2           1         486         68.0           0       866  \n",
              "3           1         216         60.0           0       756  \n",
              "4           1         655         84.0         192      1053  "
            ],
            "text/html": [
              "\n",
              "  <div id=\"df-bb395d0e-fb75-4ef2-a48f-7d2c02e76290\">\n",
              "    <div class=\"colab-df-container\">\n",
              "      <div>\n",
              "<style scoped>\n",
              "    .dataframe tbody tr th:only-of-type {\n",
              "        vertical-align: middle;\n",
              "    }\n",
              "\n",
              "    .dataframe tbody tr th {\n",
              "        vertical-align: top;\n",
              "    }\n",
              "\n",
              "    .dataframe thead th {\n",
              "        text-align: right;\n",
              "    }\n",
              "</style>\n",
              "<table border=\"1\" class=\"dataframe\">\n",
              "  <thead>\n",
              "    <tr style=\"text-align: right;\">\n",
              "      <th></th>\n",
              "      <th>OverallQual</th>\n",
              "      <th>GrLivArea</th>\n",
              "      <th>GarageCars</th>\n",
              "      <th>GarageArea</th>\n",
              "      <th>TotalBsmtSF</th>\n",
              "      <th>1stFlrSF</th>\n",
              "      <th>FullBath</th>\n",
              "      <th>TotRmsAbvGrd</th>\n",
              "      <th>YearBuilt</th>\n",
              "      <th>YearRemodAdd</th>\n",
              "      <th>GarageYrBlt</th>\n",
              "      <th>MasVnrArea</th>\n",
              "      <th>Fireplaces</th>\n",
              "      <th>BsmtFinSF1</th>\n",
              "      <th>LotFrontage</th>\n",
              "      <th>WoodDeckSF</th>\n",
              "      <th>2ndFlrSF</th>\n",
              "    </tr>\n",
              "  </thead>\n",
              "  <tbody>\n",
              "    <tr>\n",
              "      <th>0</th>\n",
              "      <td>7</td>\n",
              "      <td>1710</td>\n",
              "      <td>2</td>\n",
              "      <td>548</td>\n",
              "      <td>856</td>\n",
              "      <td>856</td>\n",
              "      <td>2</td>\n",
              "      <td>8</td>\n",
              "      <td>2003</td>\n",
              "      <td>2003</td>\n",
              "      <td>2003.0</td>\n",
              "      <td>196.0</td>\n",
              "      <td>0</td>\n",
              "      <td>706</td>\n",
              "      <td>65.0</td>\n",
              "      <td>0</td>\n",
              "      <td>854</td>\n",
              "    </tr>\n",
              "    <tr>\n",
              "      <th>1</th>\n",
              "      <td>6</td>\n",
              "      <td>1262</td>\n",
              "      <td>2</td>\n",
              "      <td>460</td>\n",
              "      <td>1262</td>\n",
              "      <td>1262</td>\n",
              "      <td>2</td>\n",
              "      <td>6</td>\n",
              "      <td>1976</td>\n",
              "      <td>1976</td>\n",
              "      <td>1976.0</td>\n",
              "      <td>0.0</td>\n",
              "      <td>1</td>\n",
              "      <td>978</td>\n",
              "      <td>80.0</td>\n",
              "      <td>298</td>\n",
              "      <td>0</td>\n",
              "    </tr>\n",
              "    <tr>\n",
              "      <th>2</th>\n",
              "      <td>7</td>\n",
              "      <td>1786</td>\n",
              "      <td>2</td>\n",
              "      <td>608</td>\n",
              "      <td>920</td>\n",
              "      <td>920</td>\n",
              "      <td>2</td>\n",
              "      <td>6</td>\n",
              "      <td>2001</td>\n",
              "      <td>2002</td>\n",
              "      <td>2001.0</td>\n",
              "      <td>162.0</td>\n",
              "      <td>1</td>\n",
              "      <td>486</td>\n",
              "      <td>68.0</td>\n",
              "      <td>0</td>\n",
              "      <td>866</td>\n",
              "    </tr>\n",
              "    <tr>\n",
              "      <th>3</th>\n",
              "      <td>7</td>\n",
              "      <td>1717</td>\n",
              "      <td>3</td>\n",
              "      <td>642</td>\n",
              "      <td>756</td>\n",
              "      <td>961</td>\n",
              "      <td>1</td>\n",
              "      <td>7</td>\n",
              "      <td>1915</td>\n",
              "      <td>1970</td>\n",
              "      <td>1998.0</td>\n",
              "      <td>0.0</td>\n",
              "      <td>1</td>\n",
              "      <td>216</td>\n",
              "      <td>60.0</td>\n",
              "      <td>0</td>\n",
              "      <td>756</td>\n",
              "    </tr>\n",
              "    <tr>\n",
              "      <th>4</th>\n",
              "      <td>8</td>\n",
              "      <td>2198</td>\n",
              "      <td>3</td>\n",
              "      <td>836</td>\n",
              "      <td>1145</td>\n",
              "      <td>1145</td>\n",
              "      <td>2</td>\n",
              "      <td>9</td>\n",
              "      <td>2000</td>\n",
              "      <td>2000</td>\n",
              "      <td>2000.0</td>\n",
              "      <td>350.0</td>\n",
              "      <td>1</td>\n",
              "      <td>655</td>\n",
              "      <td>84.0</td>\n",
              "      <td>192</td>\n",
              "      <td>1053</td>\n",
              "    </tr>\n",
              "  </tbody>\n",
              "</table>\n",
              "</div>\n",
              "      <button class=\"colab-df-convert\" onclick=\"convertToInteractive('df-bb395d0e-fb75-4ef2-a48f-7d2c02e76290')\"\n",
              "              title=\"Convert this dataframe to an interactive table.\"\n",
              "              style=\"display:none;\">\n",
              "        \n",
              "  <svg xmlns=\"http://www.w3.org/2000/svg\" height=\"24px\"viewBox=\"0 0 24 24\"\n",
              "       width=\"24px\">\n",
              "    <path d=\"M0 0h24v24H0V0z\" fill=\"none\"/>\n",
              "    <path d=\"M18.56 5.44l.94 2.06.94-2.06 2.06-.94-2.06-.94-.94-2.06-.94 2.06-2.06.94zm-11 1L8.5 8.5l.94-2.06 2.06-.94-2.06-.94L8.5 2.5l-.94 2.06-2.06.94zm10 10l.94 2.06.94-2.06 2.06-.94-2.06-.94-.94-2.06-.94 2.06-2.06.94z\"/><path d=\"M17.41 7.96l-1.37-1.37c-.4-.4-.92-.59-1.43-.59-.52 0-1.04.2-1.43.59L10.3 9.45l-7.72 7.72c-.78.78-.78 2.05 0 2.83L4 21.41c.39.39.9.59 1.41.59.51 0 1.02-.2 1.41-.59l7.78-7.78 2.81-2.81c.8-.78.8-2.07 0-2.86zM5.41 20L4 18.59l7.72-7.72 1.47 1.35L5.41 20z\"/>\n",
              "  </svg>\n",
              "      </button>\n",
              "      \n",
              "  <style>\n",
              "    .colab-df-container {\n",
              "      display:flex;\n",
              "      flex-wrap:wrap;\n",
              "      gap: 12px;\n",
              "    }\n",
              "\n",
              "    .colab-df-convert {\n",
              "      background-color: #E8F0FE;\n",
              "      border: none;\n",
              "      border-radius: 50%;\n",
              "      cursor: pointer;\n",
              "      display: none;\n",
              "      fill: #1967D2;\n",
              "      height: 32px;\n",
              "      padding: 0 0 0 0;\n",
              "      width: 32px;\n",
              "    }\n",
              "\n",
              "    .colab-df-convert:hover {\n",
              "      background-color: #E2EBFA;\n",
              "      box-shadow: 0px 1px 2px rgba(60, 64, 67, 0.3), 0px 1px 3px 1px rgba(60, 64, 67, 0.15);\n",
              "      fill: #174EA6;\n",
              "    }\n",
              "\n",
              "    [theme=dark] .colab-df-convert {\n",
              "      background-color: #3B4455;\n",
              "      fill: #D2E3FC;\n",
              "    }\n",
              "\n",
              "    [theme=dark] .colab-df-convert:hover {\n",
              "      background-color: #434B5C;\n",
              "      box-shadow: 0px 1px 3px 1px rgba(0, 0, 0, 0.15);\n",
              "      filter: drop-shadow(0px 1px 2px rgba(0, 0, 0, 0.3));\n",
              "      fill: #FFFFFF;\n",
              "    }\n",
              "  </style>\n",
              "\n",
              "      <script>\n",
              "        const buttonEl =\n",
              "          document.querySelector('#df-bb395d0e-fb75-4ef2-a48f-7d2c02e76290 button.colab-df-convert');\n",
              "        buttonEl.style.display =\n",
              "          google.colab.kernel.accessAllowed ? 'block' : 'none';\n",
              "\n",
              "        async function convertToInteractive(key) {\n",
              "          const element = document.querySelector('#df-bb395d0e-fb75-4ef2-a48f-7d2c02e76290');\n",
              "          const dataTable =\n",
              "            await google.colab.kernel.invokeFunction('convertToInteractive',\n",
              "                                                     [key], {});\n",
              "          if (!dataTable) return;\n",
              "\n",
              "          const docLinkHtml = 'Like what you see? Visit the ' +\n",
              "            '<a target=\"_blank\" href=https://colab.research.google.com/notebooks/data_table.ipynb>data table notebook</a>'\n",
              "            + ' to learn more about interactive tables.';\n",
              "          element.innerHTML = '';\n",
              "          dataTable['output_type'] = 'display_data';\n",
              "          await google.colab.output.renderOutput(dataTable, element);\n",
              "          const docLink = document.createElement('div');\n",
              "          docLink.innerHTML = docLinkHtml;\n",
              "          element.appendChild(docLink);\n",
              "        }\n",
              "      </script>\n",
              "    </div>\n",
              "  </div>\n",
              "  "
            ]
          },
          "metadata": {},
          "execution_count": 22
        }
      ]
    },
    {
      "cell_type": "code",
      "source": [
        "y = df_train['SalePrice']\n",
        "y.head()"
      ],
      "metadata": {
        "colab": {
          "base_uri": "https://localhost:8080/"
        },
        "id": "WGYceApSmbvS",
        "outputId": "5596bc56-8e1b-4327-84dd-1eeaa75e1266"
      },
      "execution_count": null,
      "outputs": [
        {
          "output_type": "execute_result",
          "data": {
            "text/plain": [
              "0    208500\n",
              "1    181500\n",
              "2    223500\n",
              "3    140000\n",
              "4    250000\n",
              "Name: SalePrice, dtype: int64"
            ]
          },
          "metadata": {},
          "execution_count": 23
        }
      ]
    },
    {
      "cell_type": "markdown",
      "source": [
        "### Data Cleaning and Scaling"
      ],
      "metadata": {
        "id": "iGkqdJO59rRT"
      }
    },
    {
      "cell_type": "code",
      "source": [
        "from sklearn.model_selection import train_test_split\n",
        "from sklearn.linear_model import LinearRegression "
      ],
      "metadata": {
        "id": "15wTPhS7_00t"
      },
      "execution_count": null,
      "outputs": []
    },
    {
      "cell_type": "code",
      "source": [
        "X_train, X_test, y_train, y_test = train_test_split(X, y, test_size=0.2)"
      ],
      "metadata": {
        "id": "Q3OqhfVG6ANj"
      },
      "execution_count": null,
      "outputs": []
    },
    {
      "cell_type": "code",
      "source": [
        "plt.figure(figsize=(8,5))\n",
        "sns.heatmap(X_train.isnull(),cmap='viridis')"
      ],
      "metadata": {
        "colab": {
          "base_uri": "https://localhost:8080/",
          "height": 407
        },
        "id": "8XCLdm1NKCou",
        "outputId": "8e682c1c-9c71-4773-b8d1-03713e1a513b"
      },
      "execution_count": null,
      "outputs": [
        {
          "output_type": "execute_result",
          "data": {
            "text/plain": [
              "<matplotlib.axes._subplots.AxesSubplot at 0x7f4952d505d0>"
            ]
          },
          "metadata": {},
          "execution_count": 26
        },
        {
          "output_type": "display_data",
          "data": {
            "text/plain": [
              "<Figure size 576x360 with 2 Axes>"
            ],
            "image/png": "[encoded data removed]"
          },
          "metadata": {
            "needs_background": "light"
          }
        }
      ]
    },
    {
      "cell_type": "code",
      "source": [
        "X_train['GarageYrBlt'].fillna(value=X_train['GarageYrBlt'].mean(), inplace=True)\n",
        "X_train['MasVnrArea'].fillna(value=X_train['MasVnrArea'].mean(), inplace=True)\n",
        "X_train['LotFrontage'].fillna(value=X_train['LotFrontage'].mean(), inplace=True)"
      ],
      "metadata": {
        "id": "zP2PeGNbKN-E"
      },
      "execution_count": null,
      "outputs": []
    },
    {
      "cell_type": "code",
      "source": [
        "plt.figure(figsize=(8,5))\n",
        "sns.heatmap(X_test.isnull(),cmap='viridis')"
      ],
      "metadata": {
        "colab": {
          "base_uri": "https://localhost:8080/",
          "height": 406
        },
        "id": "jUMXUauuKCrw",
        "outputId": "562d7b10-608a-4ebe-da99-bbf7b4f43714"
      },
      "execution_count": null,
      "outputs": [
        {
          "output_type": "execute_result",
          "data": {
            "text/plain": [
              "<matplotlib.axes._subplots.AxesSubplot at 0x7f49522d5310>"
            ]
          },
          "metadata": {},
          "execution_count": 28
        },
        {
          "output_type": "display_data",
          "data": {
            "text/plain": [
              "<Figure size 576x360 with 2 Axes>"
            ],
            "image/png": "[encoded data removed]"
          },
          "metadata": {
            "needs_background": "light"
          }
        }
      ]
    },
    {
      "cell_type": "code",
      "source": [
        "X_test['GarageYrBlt'].fillna(value=X_test['GarageYrBlt'].mean(), inplace=True)\n",
        "X_test['MasVnrArea'].fillna(value=X_test['MasVnrArea'].mean(), inplace=True)\n",
        "X_test['LotFrontage'].fillna(value=X_test['LotFrontage'].mean(), inplace=True)"
      ],
      "metadata": {
        "id": "2uK8FjFsKCx0"
      },
      "execution_count": null,
      "outputs": []
    },
    {
      "cell_type": "code",
      "source": [
        "from sklearn.preprocessing import StandardScaler\n",
        "scaler = StandardScaler()\n",
        "X_train = scaler.fit_transform(X_train)\n",
        "X_test = scaler.transform(X_test)"
      ],
      "metadata": {
        "id": "7LvI83CSHcd_"
      },
      "execution_count": null,
      "outputs": []
    },
    {
      "cell_type": "markdown",
      "source": [
        "### Application of Machine Learning Models for House Price Prediction"
      ],
      "metadata": {
        "id": "pIg5RkaR_Jzk"
      }
    },
    {
      "cell_type": "code",
      "source": [
        "lm = LinearRegression()\n",
        "lm.fit(X_train,y_train)"
      ],
      "metadata": {
        "colab": {
          "base_uri": "https://localhost:8080/"
        },
        "id": "ERkJWHpU6AQh",
        "outputId": "bbe8bee9-c7b4-49da-f15c-0e95a480d392"
      },
      "execution_count": null,
      "outputs": [
        {
          "output_type": "execute_result",
          "data": {
            "text/plain": [
              "LinearRegression()"
            ]
          },
          "metadata": {},
          "execution_count": 31
        }
      ]
    },
    {
      "cell_type": "code",
      "source": [
        "print(lm.intercept_)\n",
        "print('Coefficients: \\n', lm.coef_)"
      ],
      "metadata": {
        "colab": {
          "base_uri": "https://localhost:8080/"
        },
        "id": "L57560Sp6ATj",
        "outputId": "c3d4ff6f-3240-41d6-925e-a2b0f448c8e4"
      },
      "execution_count": null,
      "outputs": [
        {
          "output_type": "stream",
          "name": "stdout",
          "text": [
            "180918.90222984558\n",
            "Coefficients: \n",
            " [26053.95238914 -4260.59205667  8051.16534024  1810.69006639\n",
            "  4842.28885979 17437.72358916  -500.56412474  6973.66766904\n",
            "  4907.61025184  7922.02532614   141.28148736  4343.71688938\n",
            "  5867.72817049  8026.00446895   222.19107741  3945.83724204\n",
            " 14679.6025863 ]\n"
          ]
        }
      ]
    },
    {
      "cell_type": "code",
      "source": [
        "coeff = pd.DataFrame(lm.coef_,X.columns,columns=['Coefficient'])\n",
        "coeff"
      ],
      "metadata": {
        "colab": {
          "base_uri": "https://localhost:8080/",
          "height": 582
        },
        "id": "xFIJlbnq7c9q",
        "outputId": "7626bb02-21a7-49a7-a405-4d51da18506a"
      },
      "execution_count": null,
      "outputs": [
        {
          "output_type": "execute_result",
          "data": {
            "text/plain": [
              "               Coefficient\n",
              "OverallQual   26053.952389\n",
              "GrLivArea     -4260.592057\n",
              "GarageCars     8051.165340\n",
              "GarageArea     1810.690066\n",
              "TotalBsmtSF    4842.288860\n",
              "1stFlrSF      17437.723589\n",
              "FullBath       -500.564125\n",
              "TotRmsAbvGrd   6973.667669\n",
              "YearBuilt      4907.610252\n",
              "YearRemodAdd   7922.025326\n",
              "GarageYrBlt     141.281487\n",
              "MasVnrArea     4343.716889\n",
              "Fireplaces     5867.728170\n",
              "BsmtFinSF1     8026.004469\n",
              "LotFrontage     222.191077\n",
              "WoodDeckSF     3945.837242\n",
              "2ndFlrSF      14679.602586"
            ],
            "text/html": [
              "\n",
              "  <div id=\"df-1fe8e1ae-f97a-4b7f-8240-703254b76479\">\n",
              "    <div class=\"colab-df-container\">\n",
              "      <div>\n",
              "<style scoped>\n",
              "    .dataframe tbody tr th:only-of-type {\n",
              "        vertical-align: middle;\n",
              "    }\n",
              "\n",
              "    .dataframe tbody tr th {\n",
              "        vertical-align: top;\n",
              "    }\n",
              "\n",
              "    .dataframe thead th {\n",
              "        text-align: right;\n",
              "    }\n",
              "</style>\n",
              "<table border=\"1\" class=\"dataframe\">\n",
              "  <thead>\n",
              "    <tr style=\"text-align: right;\">\n",
              "      <th></th>\n",
              "      <th>Coefficient</th>\n",
              "    </tr>\n",
              "  </thead>\n",
              "  <tbody>\n",
              "    <tr>\n",
              "      <th>OverallQual</th>\n",
              "      <td>26053.952389</td>\n",
              "    </tr>\n",
              "    <tr>\n",
              "      <th>GrLivArea</th>\n",
              "      <td>-4260.592057</td>\n",
              "    </tr>\n",
              "    <tr>\n",
              "      <th>GarageCars</th>\n",
              "      <td>8051.165340</td>\n",
              "    </tr>\n",
              "    <tr>\n",
              "      <th>GarageArea</th>\n",
              "      <td>1810.690066</td>\n",
              "    </tr>\n",
              "    <tr>\n",
              "      <th>TotalBsmtSF</th>\n",
              "      <td>4842.288860</td>\n",
              "    </tr>\n",
              "    <tr>\n",
              "      <th>1stFlrSF</th>\n",
              "      <td>17437.723589</td>\n",
              "    </tr>\n",
              "    <tr>\n",
              "      <th>FullBath</th>\n",
              "      <td>-500.564125</td>\n",
              "    </tr>\n",
              "    <tr>\n",
              "      <th>TotRmsAbvGrd</th>\n",
              "      <td>6973.667669</td>\n",
              "    </tr>\n",
              "    <tr>\n",
              "      <th>YearBuilt</th>\n",
              "      <td>4907.610252</td>\n",
              "    </tr>\n",
              "    <tr>\n",
              "      <th>YearRemodAdd</th>\n",
              "      <td>7922.025326</td>\n",
              "    </tr>\n",
              "    <tr>\n",
              "      <th>GarageYrBlt</th>\n",
              "      <td>141.281487</td>\n",
              "    </tr>\n",
              "    <tr>\n",
              "      <th>MasVnrArea</th>\n",
              "      <td>4343.716889</td>\n",
              "    </tr>\n",
              "    <tr>\n",
              "      <th>Fireplaces</th>\n",
              "      <td>5867.728170</td>\n",
              "    </tr>\n",
              "    <tr>\n",
              "      <th>BsmtFinSF1</th>\n",
              "      <td>8026.004469</td>\n",
              "    </tr>\n",
              "    <tr>\n",
              "      <th>LotFrontage</th>\n",
              "      <td>222.191077</td>\n",
              "    </tr>\n",
              "    <tr>\n",
              "      <th>WoodDeckSF</th>\n",
              "      <td>3945.837242</td>\n",
              "    </tr>\n",
              "    <tr>\n",
              "      <th>2ndFlrSF</th>\n",
              "      <td>14679.602586</td>\n",
              "    </tr>\n",
              "  </tbody>\n",
              "</table>\n",
              "</div>\n",
              "      <button class=\"colab-df-convert\" onclick=\"convertToInteractive('df-1fe8e1ae-f97a-4b7f-8240-703254b76479')\"\n",
              "              title=\"Convert this dataframe to an interactive table.\"\n",
              "              style=\"display:none;\">\n",
              "        \n",
              "  <svg xmlns=\"http://www.w3.org/2000/svg\" height=\"24px\"viewBox=\"0 0 24 24\"\n",
              "       width=\"24px\">\n",
              "    <path d=\"M0 0h24v24H0V0z\" fill=\"none\"/>\n",
              "    <path d=\"M18.56 5.44l.94 2.06.94-2.06 2.06-.94-2.06-.94-.94-2.06-.94 2.06-2.06.94zm-11 1L8.5 8.5l.94-2.06 2.06-.94-2.06-.94L8.5 2.5l-.94 2.06-2.06.94zm10 10l.94 2.06.94-2.06 2.06-.94-2.06-.94-.94-2.06-.94 2.06-2.06.94z\"/><path d=\"M17.41 7.96l-1.37-1.37c-.4-.4-.92-.59-1.43-.59-.52 0-1.04.2-1.43.59L10.3 9.45l-7.72 7.72c-.78.78-.78 2.05 0 2.83L4 21.41c.39.39.9.59 1.41.59.51 0 1.02-.2 1.41-.59l7.78-7.78 2.81-2.81c.8-.78.8-2.07 0-2.86zM5.41 20L4 18.59l7.72-7.72 1.47 1.35L5.41 20z\"/>\n",
              "  </svg>\n",
              "      </button>\n",
              "      \n",
              "  <style>\n",
              "    .colab-df-container {\n",
              "      display:flex;\n",
              "      flex-wrap:wrap;\n",
              "      gap: 12px;\n",
              "    }\n",
              "\n",
              "    .colab-df-convert {\n",
              "      background-color: #E8F0FE;\n",
              "      border: none;\n",
              "      border-radius: 50%;\n",
              "      cursor: pointer;\n",
              "      display: none;\n",
              "      fill: #1967D2;\n",
              "      height: 32px;\n",
              "      padding: 0 0 0 0;\n",
              "      width: 32px;\n",
              "    }\n",
              "\n",
              "    .colab-df-convert:hover {\n",
              "      background-color: #E2EBFA;\n",
              "      box-shadow: 0px 1px 2px rgba(60, 64, 67, 0.3), 0px 1px 3px 1px rgba(60, 64, 67, 0.15);\n",
              "      fill: #174EA6;\n",
              "    }\n",
              "\n",
              "    [theme=dark] .colab-df-convert {\n",
              "      background-color: #3B4455;\n",
              "      fill: #D2E3FC;\n",
              "    }\n",
              "\n",
              "    [theme=dark] .colab-df-convert:hover {\n",
              "      background-color: #434B5C;\n",
              "      box-shadow: 0px 1px 3px 1px rgba(0, 0, 0, 0.15);\n",
              "      filter: drop-shadow(0px 1px 2px rgba(0, 0, 0, 0.3));\n",
              "      fill: #FFFFFF;\n",
              "    }\n",
              "  </style>\n",
              "\n",
              "      <script>\n",
              "        const buttonEl =\n",
              "          document.querySelector('#df-1fe8e1ae-f97a-4b7f-8240-703254b76479 button.colab-df-convert');\n",
              "        buttonEl.style.display =\n",
              "          google.colab.kernel.accessAllowed ? 'block' : 'none';\n",
              "\n",
              "        async function convertToInteractive(key) {\n",
              "          const element = document.querySelector('#df-1fe8e1ae-f97a-4b7f-8240-703254b76479');\n",
              "          const dataTable =\n",
              "            await google.colab.kernel.invokeFunction('convertToInteractive',\n",
              "                                                     [key], {});\n",
              "          if (!dataTable) return;\n",
              "\n",
              "          const docLinkHtml = 'Like what you see? Visit the ' +\n",
              "            '<a target=\"_blank\" href=https://colab.research.google.com/notebooks/data_table.ipynb>data table notebook</a>'\n",
              "            + ' to learn more about interactive tables.';\n",
              "          element.innerHTML = '';\n",
              "          dataTable['output_type'] = 'display_data';\n",
              "          await google.colab.output.renderOutput(dataTable, element);\n",
              "          const docLink = document.createElement('div');\n",
              "          docLink.innerHTML = docLinkHtml;\n",
              "          element.appendChild(docLink);\n",
              "        }\n",
              "      </script>\n",
              "    </div>\n",
              "  </div>\n",
              "  "
            ]
          },
          "metadata": {},
          "execution_count": 33
        }
      ]
    },
    {
      "cell_type": "code",
      "source": [
        "predictions = lm.predict(X_test)"
      ],
      "metadata": {
        "id": "3VMEW5aJ6AWU"
      },
      "execution_count": null,
      "outputs": []
    },
    {
      "cell_type": "code",
      "source": [
        "plt.figure(figsize=(8,5))\n",
        "plt.scatter(y_test,predictions,color='blue')\n",
        "plt.plot(y_test,y_test,color='blue')\n",
        "plt.ylabel('y Predicted Value')\n",
        "plt.xlabel('y Test Value')\n",
        "plt.title('Comparison of y predicted value against test value')\n",
        "#plots the actual y values y_test, against the y values predicted by the trained model"
      ],
      "metadata": {
        "colab": {
          "base_uri": "https://localhost:8080/",
          "height": 367
        },
        "id": "0KBA43hg6AY4",
        "outputId": "280198e5-6662-4af8-8d88-0a8d20832396"
      },
      "execution_count": null,
      "outputs": [
        {
          "output_type": "execute_result",
          "data": {
            "text/plain": [
              "Text(0.5, 1.0, 'Comparison of y predicted value against test value')"
            ]
          },
          "metadata": {},
          "execution_count": 35
        },
        {
          "output_type": "display_data",
          "data": {
            "text/plain": [
              "<Figure size 576x360 with 1 Axes>"
            ],
            "image/png": "[encoded data removed]"
          },
          "metadata": {
            "needs_background": "light"
          }
        }
      ]
    },
    {
      "cell_type": "code",
      "source": [
        "from sklearn import metrics\n",
        "print('MAE:', metrics.mean_absolute_error(y_test, predictions))\n",
        "print('MSE:', metrics.mean_squared_error(y_test, predictions))\n",
        "print('RMSE:', np.sqrt(metrics.mean_squared_error(y_test, predictions)))\n",
        "print('R2 Score:', metrics.r2_score(y_test, predictions))"
      ],
      "metadata": {
        "colab": {
          "base_uri": "https://localhost:8080/"
        },
        "id": "Agdj-9386AfT",
        "outputId": "0a0bf88a-6afe-4fea-bb3b-e0086d4e1053"
      },
      "execution_count": null,
      "outputs": [
        {
          "output_type": "stream",
          "name": "stdout",
          "text": [
            "MAE: 21809.185512291864\n",
            "MSE: 1292222509.5113478\n",
            "RMSE: 35947.49656806921\n",
            "R2 Score: 0.7843843911400961\n"
          ]
        }
      ]
    },
    {
      "cell_type": "code",
      "source": [
        "plt.figure(figsize=(8,5))\n",
        "sns.histplot((y_test-predictions),bins=80,kde=True,color='blue')\n",
        "plt.xlim(-80000,80000)\n",
        "#plots a histogram of the residual values of y\n",
        "#distribution is approximately normal about zero, as expected for a good fit"
      ],
      "metadata": {
        "colab": {
          "base_uri": "https://localhost:8080/",
          "height": 351
        },
        "id": "i9M2RPjc6eqY",
        "outputId": "d0929949-6fd4-49ba-f15d-f02d0882de6b"
      },
      "execution_count": null,
      "outputs": [
        {
          "output_type": "execute_result",
          "data": {
            "text/plain": [
              "(-80000.0, 80000.0)"
            ]
          },
          "metadata": {},
          "execution_count": 37
        },
        {
          "output_type": "display_data",
          "data": {
            "text/plain": [
              "<Figure size 576x360 with 1 Axes>"
            ],
            "image/png": "[encoded data removed]"
          },
          "metadata": {
            "needs_background": "light"
          }
        }
      ]
    },
    {
      "cell_type": "code",
      "source": [
        "import xgboost as xg\n",
        "xgb_r = xg.XGBRegressor(objective ='reg:squarederror', n_estimators = 500)\n",
        "xgb_r.fit(X_train, y_train)"
      ],
      "metadata": {
        "colab": {
          "base_uri": "https://localhost:8080/"
        },
        "id": "EHW7C0Ba6esp",
        "outputId": "2f490b70-6ab5-4005-fdf1-7c052440c96c"
      },
      "execution_count": null,
      "outputs": [
        {
          "output_type": "execute_result",
          "data": {
            "text/plain": [
              "XGBRegressor(n_estimators=500, objective='reg:squarederror')"
            ]
          },
          "metadata": {},
          "execution_count": 38
        }
      ]
    },
    {
      "cell_type": "code",
      "source": [
        "xgbpredictions = xgb_r.predict(X_test)"
      ],
      "metadata": {
        "id": "oyfB_CgX6evo"
      },
      "execution_count": null,
      "outputs": []
    },
    {
      "cell_type": "code",
      "source": [
        "plt.figure(figsize=(8,5))\n",
        "plt.scatter(y_test,xgbpredictions,color='purple')\n",
        "plt.plot(y_test,y_test,color='purple')\n",
        "plt.ylabel('y Predicted Value')\n",
        "plt.xlabel('y Test Value')\n",
        "plt.title('Comparison of y predicted value against test value')\n",
        "#plots the actual y values y_test, against the y values predicted by the trained model"
      ],
      "metadata": {
        "colab": {
          "base_uri": "https://localhost:8080/",
          "height": 367
        },
        "id": "wY7xQrgP6eyH",
        "outputId": "3b3a8901-14de-4ed3-bacf-2c1944948084"
      },
      "execution_count": null,
      "outputs": [
        {
          "output_type": "execute_result",
          "data": {
            "text/plain": [
              "Text(0.5, 1.0, 'Comparison of y predicted value against test value')"
            ]
          },
          "metadata": {},
          "execution_count": 40
        },
        {
          "output_type": "display_data",
          "data": {
            "text/plain": [
              "<Figure size 576x360 with 1 Axes>"
            ],
            "image/png": "[encoded data removed]"
          },
          "metadata": {
            "needs_background": "light"
          }
        }
      ]
    },
    {
      "cell_type": "code",
      "source": [
        "from sklearn import metrics\n",
        "print('MAE:', metrics.mean_absolute_error(y_test, xgbpredictions))\n",
        "print('MSE:', metrics.mean_squared_error(y_test, xgbpredictions))\n",
        "print('RMSE:', np.sqrt(metrics.mean_squared_error(y_test, xgbpredictions)))\n",
        "print('R2 Score:', metrics.r2_score(y_test, xgbpredictions))"
      ],
      "metadata": {
        "colab": {
          "base_uri": "https://localhost:8080/"
        },
        "id": "nWxawzvcAivV",
        "outputId": "699b5c34-7678-4640-b2fa-e5d6b2b1695e"
      },
      "execution_count": null,
      "outputs": [
        {
          "output_type": "stream",
          "name": "stdout",
          "text": [
            "MAE: 17750.74777932363\n",
            "MSE: 963356975.624848\n",
            "RMSE: 31037.99245481009\n",
            "R2 Score: 0.8392577134975505\n"
          ]
        }
      ]
    },
    {
      "cell_type": "code",
      "source": [
        "plt.figure(figsize=(8,5))\n",
        "sns.histplot((y_test-xgbpredictions),bins=80,kde=True,color='purple')\n",
        "plt.xlim(-80000,80000)\n",
        "#plots a histogram of the residual values of y"
      ],
      "metadata": {
        "colab": {
          "base_uri": "https://localhost:8080/",
          "height": 351
        },
        "id": "e2G3e0FHAuit",
        "outputId": "6981473d-e1dd-4f04-9f5e-2d1f965f7b02"
      },
      "execution_count": null,
      "outputs": [
        {
          "output_type": "execute_result",
          "data": {
            "text/plain": [
              "(-80000.0, 80000.0)"
            ]
          },
          "metadata": {},
          "execution_count": 42
        },
        {
          "output_type": "display_data",
          "data": {
            "text/plain": [
              "<Figure size 576x360 with 1 Axes>"
            ],
            "image/png": "[encoded data removed]"
          },
          "metadata": {
            "needs_background": "light"
          }
        }
      ]
    },
    {
      "cell_type": "code",
      "source": [
        "import tensorflow as tf\n",
        "from tensorflow.keras.models import Sequential\n",
        "from tensorflow.keras.layers import Dense,Dropout"
      ],
      "metadata": {
        "id": "7kR0yx5ny9zJ"
      },
      "execution_count": null,
      "outputs": []
    },
    {
      "cell_type": "code",
      "source": [
        "X_train.shape\n",
        "#17 input variables, so we require 17 inputs to neural network"
      ],
      "metadata": {
        "colab": {
          "base_uri": "https://localhost:8080/"
        },
        "id": "mcNiqskUy98k",
        "outputId": "2cfc6281-f3fa-47b8-965b-da7cbc1ca0f6"
      },
      "execution_count": null,
      "outputs": [
        {
          "output_type": "execute_result",
          "data": {
            "text/plain": [
              "(1166, 17)"
            ]
          },
          "metadata": {},
          "execution_count": 44
        }
      ]
    },
    {
      "cell_type": "code",
      "source": [
        "model = Sequential()\n",
        "#define number of model layers and number of neurons in each layer\n",
        "model.add(Dense(units=17,activation='relu'))\n",
        "#model.add(Dropout(0.2))\n",
        "model.add(Dense(units=17,activation='relu'))\n",
        "#model.add(Dropout(0.2))\n",
        "model.add(Dense(units=17,activation='relu'))\n",
        "#model.add(Dropout(0.2))\n",
        "model.add(Dense(units=17,activation='relu'))\n",
        "#model.add(Dropout(0.2))\n",
        "\n",
        "model.add(Dense(1))\n",
        "# compile the model\n",
        "model.compile(loss='mean_squared_error', optimizer='adam')"
      ],
      "metadata": {
        "id": "ETttC-giy9_k"
      },
      "execution_count": null,
      "outputs": []
    },
    {
      "cell_type": "code",
      "source": [
        "model.fit(x=X_train,y=y_train,validation_data=(X_test, y_test),epochs=300,batch_size=50)"
      ],
      "metadata": {
        "colab": {
          "base_uri": "https://localhost:8080/"
        },
        "id": "IEpFgNery-Cs",
        "outputId": "36411a49-428c-4bfe-f975-63498d081322"
      },
      "execution_count": null,
      "outputs": [
        {
          "output_type": "stream",
          "name": "stdout",
          "text": [
            "Epoch 1/300\n",
            "24/24 [==============================] - 2s 21ms/step - loss: 38568357888.0000 - val_loss: 37333430272.0000\n",
            "Epoch 2/300\n",
            "24/24 [==============================] - 0s 8ms/step - loss: 38567972864.0000 - val_loss: 37332811776.0000\n",
            "Epoch 3/300\n",
            "24/24 [==============================] - 0s 9ms/step - loss: 38566879232.0000 - val_loss: 37330870272.0000\n",
            "Epoch 4/300\n",
            "24/24 [==============================] - 0s 7ms/step - loss: 38563418112.0000 - val_loss: 37324529664.0000\n",
            "Epoch 5/300\n",
            "24/24 [==============================] - 0s 8ms/step - loss: 38552281088.0000 - val_loss: 37304504320.0000\n",
            "Epoch 6/300\n",
            "24/24 [==============================] - 0s 10ms/step - loss: 38519963648.0000 - val_loss: 37251063808.0000\n",
            "Epoch 7/300\n",
            "24/24 [==============================] - 0s 12ms/step - loss: 38443130880.0000 - val_loss: 37128183808.0000\n",
            "Epoch 8/300\n",
            "24/24 [==============================] - 0s 10ms/step - loss: 38272348160.0000 - val_loss: 36876845056.0000\n",
            "Epoch 9/300\n",
            "24/24 [==============================] - 0s 6ms/step - loss: 37940645888.0000 - val_loss: 36416167936.0000\n",
            "Epoch 10/300\n",
            "24/24 [==============================] - 0s 10ms/step - loss: 37358895104.0000 - val_loss: 35620581376.0000\n",
            "Epoch 11/300\n",
            "24/24 [==============================] - 0s 6ms/step - loss: 36380291072.0000 - val_loss: 34386374656.0000\n",
            "Epoch 12/300\n",
            "24/24 [==============================] - 0s 9ms/step - loss: 34929709056.0000 - val_loss: 32524058624.0000\n",
            "Epoch 13/300\n",
            "24/24 [==============================] - 0s 7ms/step - loss: 32825266176.0000 - val_loss: 29975611392.0000\n",
            "Epoch 14/300\n",
            "24/24 [==============================] - 0s 8ms/step - loss: 30017820672.0000 - val_loss: 26676484096.0000\n",
            "Epoch 15/300\n",
            "24/24 [==============================] - 0s 8ms/step - loss: 26463950848.0000 - val_loss: 22782130176.0000\n",
            "Epoch 16/300\n",
            "24/24 [==============================] - 0s 8ms/step - loss: 22432921600.0000 - val_loss: 18575314944.0000\n",
            "Epoch 17/300\n",
            "24/24 [==============================] - 0s 9ms/step - loss: 18218565632.0000 - val_loss: 14454767616.0000\n",
            "Epoch 18/300\n",
            "24/24 [==============================] - 0s 10ms/step - loss: 14336287744.0000 - val_loss: 11120966656.0000\n",
            "Epoch 19/300\n",
            "24/24 [==============================] - 0s 14ms/step - loss: 11272206336.0000 - val_loss: 8875334656.0000\n",
            "Epoch 20/300\n",
            "24/24 [==============================] - 0s 7ms/step - loss: 9249451008.0000 - val_loss: 7678973440.0000\n",
            "Epoch 21/300\n",
            "24/24 [==============================] - 0s 8ms/step - loss: 8083655168.0000 - val_loss: 7136785408.0000\n",
            "Epoch 22/300\n",
            "24/24 [==============================] - 0s 9ms/step - loss: 7518023168.0000 - val_loss: 6895297536.0000\n",
            "Epoch 23/300\n",
            "24/24 [==============================] - 0s 12ms/step - loss: 7155663872.0000 - val_loss: 6732500480.0000\n",
            "Epoch 24/300\n",
            "24/24 [==============================] - 0s 6ms/step - loss: 6878475776.0000 - val_loss: 6545704960.0000\n",
            "Epoch 25/300\n",
            "24/24 [==============================] - 0s 10ms/step - loss: 6655984640.0000 - val_loss: 6374675968.0000\n",
            "Epoch 26/300\n",
            "24/24 [==============================] - 0s 6ms/step - loss: 6456951808.0000 - val_loss: 6227602944.0000\n",
            "Epoch 27/300\n",
            "24/24 [==============================] - 0s 7ms/step - loss: 6261043200.0000 - val_loss: 6048588800.0000\n",
            "Epoch 28/300\n",
            "24/24 [==============================] - 0s 7ms/step - loss: 6067438080.0000 - val_loss: 5905414144.0000\n",
            "Epoch 29/300\n",
            "24/24 [==============================] - 0s 6ms/step - loss: 5902151168.0000 - val_loss: 5728668672.0000\n",
            "Epoch 30/300\n",
            "24/24 [==============================] - 0s 6ms/step - loss: 5719263744.0000 - val_loss: 5591902720.0000\n",
            "Epoch 31/300\n",
            "24/24 [==============================] - 0s 6ms/step - loss: 5561655808.0000 - val_loss: 5462301696.0000\n",
            "Epoch 32/300\n",
            "24/24 [==============================] - 0s 7ms/step - loss: 5407683584.0000 - val_loss: 5290022912.0000\n",
            "Epoch 33/300\n",
            "24/24 [==============================] - 0s 9ms/step - loss: 5251284992.0000 - val_loss: 5142064128.0000\n",
            "Epoch 34/300\n",
            "24/24 [==============================] - 0s 6ms/step - loss: 5095797760.0000 - val_loss: 5002827264.0000\n",
            "Epoch 35/300\n",
            "24/24 [==============================] - 0s 6ms/step - loss: 4956120064.0000 - val_loss: 4880500736.0000\n",
            "Epoch 36/300\n",
            "24/24 [==============================] - 0s 8ms/step - loss: 4817412608.0000 - val_loss: 4740177408.0000\n",
            "Epoch 37/300\n",
            "24/24 [==============================] - 0s 8ms/step - loss: 4690396672.0000 - val_loss: 4639257088.0000\n",
            "Epoch 38/300\n",
            "24/24 [==============================] - 0s 7ms/step - loss: 4596067840.0000 - val_loss: 4385333760.0000\n",
            "Epoch 39/300\n",
            "24/24 [==============================] - 0s 11ms/step - loss: 4432358400.0000 - val_loss: 4307037184.0000\n",
            "Epoch 40/300\n",
            "24/24 [==============================] - 0s 7ms/step - loss: 4307908608.0000 - val_loss: 4176432896.0000\n",
            "Epoch 41/300\n",
            "24/24 [==============================] - 0s 5ms/step - loss: 4183631104.0000 - val_loss: 4080064000.0000\n",
            "Epoch 42/300\n",
            "24/24 [==============================] - 0s 7ms/step - loss: 4078903552.0000 - val_loss: 3988740352.0000\n",
            "Epoch 43/300\n",
            "24/24 [==============================] - 0s 6ms/step - loss: 3980886016.0000 - val_loss: 3890874112.0000\n",
            "Epoch 44/300\n",
            "24/24 [==============================] - 0s 7ms/step - loss: 3885303552.0000 - val_loss: 3813685760.0000\n",
            "Epoch 45/300\n",
            "24/24 [==============================] - 0s 6ms/step - loss: 3795899136.0000 - val_loss: 3704404736.0000\n",
            "Epoch 46/300\n",
            "24/24 [==============================] - 0s 10ms/step - loss: 3711714816.0000 - val_loss: 3607273728.0000\n",
            "Epoch 47/300\n",
            "24/24 [==============================] - 0s 9ms/step - loss: 3630484736.0000 - val_loss: 3532567808.0000\n",
            "Epoch 48/300\n",
            "24/24 [==============================] - 0s 7ms/step - loss: 3546527488.0000 - val_loss: 3441138432.0000\n",
            "Epoch 49/300\n",
            "24/24 [==============================] - 0s 4ms/step - loss: 3471347456.0000 - val_loss: 3370904832.0000\n",
            "Epoch 50/300\n",
            "24/24 [==============================] - 0s 4ms/step - loss: 3405523456.0000 - val_loss: 3285929728.0000\n",
            "Epoch 51/300\n",
            "24/24 [==============================] - 0s 4ms/step - loss: 3333054720.0000 - val_loss: 3237633792.0000\n",
            "Epoch 52/300\n",
            "24/24 [==============================] - 0s 4ms/step - loss: 3261426432.0000 - val_loss: 3168726528.0000\n",
            "Epoch 53/300\n",
            "24/24 [==============================] - 0s 3ms/step - loss: 3198135552.0000 - val_loss: 3097188608.0000\n",
            "Epoch 54/300\n",
            "24/24 [==============================] - 0s 3ms/step - loss: 3141841152.0000 - val_loss: 3025756672.0000\n",
            "Epoch 55/300\n",
            "24/24 [==============================] - 0s 4ms/step - loss: 3088911360.0000 - val_loss: 2967019776.0000\n",
            "Epoch 56/300\n",
            "24/24 [==============================] - 0s 4ms/step - loss: 3032388352.0000 - val_loss: 2917971200.0000\n",
            "Epoch 57/300\n",
            "24/24 [==============================] - 0s 4ms/step - loss: 2983225344.0000 - val_loss: 2866233344.0000\n",
            "Epoch 58/300\n",
            "24/24 [==============================] - 0s 5ms/step - loss: 2932759808.0000 - val_loss: 2821586944.0000\n",
            "Epoch 59/300\n",
            "24/24 [==============================] - 0s 4ms/step - loss: 2896044288.0000 - val_loss: 2795138816.0000\n",
            "Epoch 60/300\n",
            "24/24 [==============================] - 0s 4ms/step - loss: 2853722624.0000 - val_loss: 2714617856.0000\n",
            "Epoch 61/300\n",
            "24/24 [==============================] - 0s 3ms/step - loss: 2796018432.0000 - val_loss: 2668945920.0000\n",
            "Epoch 62/300\n",
            "24/24 [==============================] - 0s 3ms/step - loss: 2758283776.0000 - val_loss: 2625615104.0000\n",
            "Epoch 63/300\n",
            "24/24 [==============================] - 0s 4ms/step - loss: 2714713344.0000 - val_loss: 2599403520.0000\n",
            "Epoch 64/300\n",
            "24/24 [==============================] - 0s 4ms/step - loss: 2674567680.0000 - val_loss: 2540042496.0000\n",
            "Epoch 65/300\n",
            "24/24 [==============================] - 0s 4ms/step - loss: 2628485632.0000 - val_loss: 2512249344.0000\n",
            "Epoch 66/300\n",
            "24/24 [==============================] - 0s 4ms/step - loss: 2603434496.0000 - val_loss: 2461375488.0000\n",
            "Epoch 67/300\n",
            "24/24 [==============================] - 0s 4ms/step - loss: 2555090176.0000 - val_loss: 2429820928.0000\n",
            "Epoch 68/300\n",
            "24/24 [==============================] - 0s 4ms/step - loss: 2522075904.0000 - val_loss: 2401069824.0000\n",
            "Epoch 69/300\n",
            "24/24 [==============================] - 0s 4ms/step - loss: 2498836224.0000 - val_loss: 2354421760.0000\n",
            "Epoch 70/300\n",
            "24/24 [==============================] - 0s 5ms/step - loss: 2458200832.0000 - val_loss: 2318894592.0000\n",
            "Epoch 71/300\n",
            "24/24 [==============================] - 0s 3ms/step - loss: 2431068160.0000 - val_loss: 2295999488.0000\n",
            "Epoch 72/300\n",
            "24/24 [==============================] - 0s 4ms/step - loss: 2400944640.0000 - val_loss: 2269742080.0000\n",
            "Epoch 73/300\n",
            "24/24 [==============================] - 0s 4ms/step - loss: 2371485184.0000 - val_loss: 2245147648.0000\n",
            "Epoch 74/300\n",
            "24/24 [==============================] - 0s 4ms/step - loss: 2350285568.0000 - val_loss: 2202516736.0000\n",
            "Epoch 75/300\n",
            "24/24 [==============================] - 0s 4ms/step - loss: 2307016704.0000 - val_loss: 2179854848.0000\n",
            "Epoch 76/300\n",
            "24/24 [==============================] - 0s 4ms/step - loss: 2280765440.0000 - val_loss: 2164323584.0000\n",
            "Epoch 77/300\n",
            "24/24 [==============================] - 0s 3ms/step - loss: 2258353920.0000 - val_loss: 2130712448.0000\n",
            "Epoch 78/300\n",
            "24/24 [==============================] - 0s 4ms/step - loss: 2222016768.0000 - val_loss: 2110797568.0000\n",
            "Epoch 79/300\n",
            "24/24 [==============================] - 0s 4ms/step - loss: 2191266816.0000 - val_loss: 2090470528.0000\n",
            "Epoch 80/300\n",
            "24/24 [==============================] - 0s 4ms/step - loss: 2168410368.0000 - val_loss: 2072743040.0000\n",
            "Epoch 81/300\n",
            "24/24 [==============================] - 0s 3ms/step - loss: 2140059136.0000 - val_loss: 2054016128.0000\n",
            "Epoch 82/300\n",
            "24/24 [==============================] - 0s 4ms/step - loss: 2111474176.0000 - val_loss: 2017877632.0000\n",
            "Epoch 83/300\n",
            "24/24 [==============================] - 0s 4ms/step - loss: 2086932480.0000 - val_loss: 1990672128.0000\n",
            "Epoch 84/300\n",
            "24/24 [==============================] - 0s 4ms/step - loss: 2064676992.0000 - val_loss: 1976483328.0000\n",
            "Epoch 85/300\n",
            "24/24 [==============================] - 0s 4ms/step - loss: 2036221952.0000 - val_loss: 1957835264.0000\n",
            "Epoch 86/300\n",
            "24/24 [==============================] - 0s 3ms/step - loss: 2014203392.0000 - val_loss: 1951661568.0000\n",
            "Epoch 87/300\n",
            "24/24 [==============================] - 0s 4ms/step - loss: 1994672384.0000 - val_loss: 1915566720.0000\n",
            "Epoch 88/300\n",
            "24/24 [==============================] - 0s 4ms/step - loss: 1964439680.0000 - val_loss: 1908527104.0000\n",
            "Epoch 89/300\n",
            "24/24 [==============================] - 0s 4ms/step - loss: 1947225472.0000 - val_loss: 1885278592.0000\n",
            "Epoch 90/300\n",
            "24/24 [==============================] - 0s 3ms/step - loss: 1926333696.0000 - val_loss: 1898904448.0000\n",
            "Epoch 91/300\n",
            "24/24 [==============================] - 0s 3ms/step - loss: 1908395520.0000 - val_loss: 1857401216.0000\n",
            "Epoch 92/300\n",
            "24/24 [==============================] - 0s 4ms/step - loss: 1877758080.0000 - val_loss: 1842238336.0000\n",
            "Epoch 93/300\n",
            "24/24 [==============================] - 0s 4ms/step - loss: 1857818240.0000 - val_loss: 1831276160.0000\n",
            "Epoch 94/300\n",
            "24/24 [==============================] - 0s 3ms/step - loss: 1839147136.0000 - val_loss: 1828492928.0000\n",
            "Epoch 95/300\n",
            "24/24 [==============================] - 0s 4ms/step - loss: 1816392960.0000 - val_loss: 1808637440.0000\n",
            "Epoch 96/300\n",
            "24/24 [==============================] - 0s 4ms/step - loss: 1799654144.0000 - val_loss: 1800365824.0000\n",
            "Epoch 97/300\n",
            "24/24 [==============================] - 0s 4ms/step - loss: 1781686912.0000 - val_loss: 1781194368.0000\n",
            "Epoch 98/300\n",
            "24/24 [==============================] - 0s 3ms/step - loss: 1765995136.0000 - val_loss: 1770560512.0000\n",
            "Epoch 99/300\n",
            "24/24 [==============================] - 0s 3ms/step - loss: 1746339200.0000 - val_loss: 1768696832.0000\n",
            "Epoch 100/300\n",
            "24/24 [==============================] - 0s 3ms/step - loss: 1743972864.0000 - val_loss: 1733692672.0000\n",
            "Epoch 101/300\n",
            "24/24 [==============================] - 0s 3ms/step - loss: 1714629248.0000 - val_loss: 1719030656.0000\n",
            "Epoch 102/300\n",
            "24/24 [==============================] - 0s 4ms/step - loss: 1699745792.0000 - val_loss: 1728164992.0000\n",
            "Epoch 103/300\n",
            "24/24 [==============================] - 0s 3ms/step - loss: 1687185664.0000 - val_loss: 1688102144.0000\n",
            "Epoch 104/300\n",
            "24/24 [==============================] - 0s 4ms/step - loss: 1664489216.0000 - val_loss: 1680200064.0000\n",
            "Epoch 105/300\n",
            "24/24 [==============================] - 0s 4ms/step - loss: 1648683136.0000 - val_loss: 1678439296.0000\n",
            "Epoch 106/300\n",
            "24/24 [==============================] - 0s 4ms/step - loss: 1632933888.0000 - val_loss: 1651730816.0000\n",
            "Epoch 107/300\n",
            "24/24 [==============================] - 0s 4ms/step - loss: 1617154816.0000 - val_loss: 1639874432.0000\n",
            "Epoch 108/300\n",
            "24/24 [==============================] - 0s 4ms/step - loss: 1599366144.0000 - val_loss: 1634616832.0000\n",
            "Epoch 109/300\n",
            "24/24 [==============================] - 0s 4ms/step - loss: 1594031360.0000 - val_loss: 1631405184.0000\n",
            "Epoch 110/300\n",
            "24/24 [==============================] - 0s 4ms/step - loss: 1569144064.0000 - val_loss: 1602481664.0000\n",
            "Epoch 111/300\n",
            "24/24 [==============================] - 0s 4ms/step - loss: 1556726400.0000 - val_loss: 1593371648.0000\n",
            "Epoch 112/300\n",
            "24/24 [==============================] - 0s 4ms/step - loss: 1543007232.0000 - val_loss: 1583602176.0000\n",
            "Epoch 113/300\n",
            "24/24 [==============================] - 0s 4ms/step - loss: 1532972416.0000 - val_loss: 1576020352.0000\n",
            "Epoch 114/300\n",
            "24/24 [==============================] - 0s 4ms/step - loss: 1523673728.0000 - val_loss: 1558156800.0000\n",
            "Epoch 115/300\n",
            "24/24 [==============================] - 0s 4ms/step - loss: 1506914432.0000 - val_loss: 1550759936.0000\n",
            "Epoch 116/300\n",
            "24/24 [==============================] - 0s 4ms/step - loss: 1497320192.0000 - val_loss: 1525234560.0000\n",
            "Epoch 117/300\n",
            "24/24 [==============================] - 0s 4ms/step - loss: 1478490880.0000 - val_loss: 1523614208.0000\n",
            "Epoch 118/300\n",
            "24/24 [==============================] - 0s 4ms/step - loss: 1472928128.0000 - val_loss: 1526304768.0000\n",
            "Epoch 119/300\n",
            "24/24 [==============================] - 0s 4ms/step - loss: 1456999424.0000 - val_loss: 1498054400.0000\n",
            "Epoch 120/300\n",
            "24/24 [==============================] - 0s 4ms/step - loss: 1451704320.0000 - val_loss: 1502952960.0000\n",
            "Epoch 121/300\n",
            "24/24 [==============================] - 0s 4ms/step - loss: 1434596352.0000 - val_loss: 1480448384.0000\n",
            "Epoch 122/300\n",
            "24/24 [==============================] - 0s 4ms/step - loss: 1429465728.0000 - val_loss: 1473034240.0000\n",
            "Epoch 123/300\n",
            "24/24 [==============================] - 0s 3ms/step - loss: 1416316160.0000 - val_loss: 1475007616.0000\n",
            "Epoch 124/300\n",
            "24/24 [==============================] - 0s 4ms/step - loss: 1411060864.0000 - val_loss: 1464060288.0000\n",
            "Epoch 125/300\n",
            "24/24 [==============================] - 0s 4ms/step - loss: 1402366080.0000 - val_loss: 1451491968.0000\n",
            "Epoch 126/300\n",
            "24/24 [==============================] - 0s 3ms/step - loss: 1390408960.0000 - val_loss: 1456329344.0000\n",
            "Epoch 127/300\n",
            "24/24 [==============================] - 0s 4ms/step - loss: 1385728128.0000 - val_loss: 1435048320.0000\n",
            "Epoch 128/300\n",
            "24/24 [==============================] - 0s 3ms/step - loss: 1381077888.0000 - val_loss: 1434892928.0000\n",
            "Epoch 129/300\n",
            "24/24 [==============================] - 0s 4ms/step - loss: 1369129600.0000 - val_loss: 1432678272.0000\n",
            "Epoch 130/300\n",
            "24/24 [==============================] - 0s 3ms/step - loss: 1358253952.0000 - val_loss: 1411111296.0000\n",
            "Epoch 131/300\n",
            "24/24 [==============================] - 0s 4ms/step - loss: 1353757056.0000 - val_loss: 1406372992.0000\n",
            "Epoch 132/300\n",
            "24/24 [==============================] - 0s 4ms/step - loss: 1345885696.0000 - val_loss: 1401115520.0000\n",
            "Epoch 133/300\n",
            "24/24 [==============================] - 0s 4ms/step - loss: 1338194432.0000 - val_loss: 1398619904.0000\n",
            "Epoch 134/300\n",
            "24/24 [==============================] - 0s 4ms/step - loss: 1333350016.0000 - val_loss: 1388477184.0000\n",
            "Epoch 135/300\n",
            "24/24 [==============================] - 0s 4ms/step - loss: 1323158784.0000 - val_loss: 1389481984.0000\n",
            "Epoch 136/300\n",
            "24/24 [==============================] - 0s 4ms/step - loss: 1319728384.0000 - val_loss: 1387938304.0000\n",
            "Epoch 137/300\n",
            "24/24 [==============================] - 0s 4ms/step - loss: 1308881664.0000 - val_loss: 1378159616.0000\n",
            "Epoch 138/300\n",
            "24/24 [==============================] - 0s 4ms/step - loss: 1303749632.0000 - val_loss: 1372692864.0000\n",
            "Epoch 139/300\n",
            "24/24 [==============================] - 0s 4ms/step - loss: 1299391616.0000 - val_loss: 1369761152.0000\n",
            "Epoch 140/300\n",
            "24/24 [==============================] - 0s 3ms/step - loss: 1290556032.0000 - val_loss: 1356103936.0000\n",
            "Epoch 141/300\n",
            "24/24 [==============================] - 0s 4ms/step - loss: 1287321344.0000 - val_loss: 1354412032.0000\n",
            "Epoch 142/300\n",
            "24/24 [==============================] - 0s 4ms/step - loss: 1280956288.0000 - val_loss: 1354983808.0000\n",
            "Epoch 143/300\n",
            "24/24 [==============================] - 0s 3ms/step - loss: 1276480256.0000 - val_loss: 1348582528.0000\n",
            "Epoch 144/300\n",
            "24/24 [==============================] - 0s 3ms/step - loss: 1271057280.0000 - val_loss: 1338322048.0000\n",
            "Epoch 145/300\n",
            "24/24 [==============================] - 0s 3ms/step - loss: 1262602240.0000 - val_loss: 1342120704.0000\n",
            "Epoch 146/300\n",
            "24/24 [==============================] - 0s 4ms/step - loss: 1265540992.0000 - val_loss: 1349384704.0000\n",
            "Epoch 147/300\n",
            "24/24 [==============================] - 0s 4ms/step - loss: 1255490048.0000 - val_loss: 1321909248.0000\n",
            "Epoch 148/300\n",
            "24/24 [==============================] - 0s 4ms/step - loss: 1252662144.0000 - val_loss: 1322313088.0000\n",
            "Epoch 149/300\n",
            "24/24 [==============================] - 0s 4ms/step - loss: 1244164480.0000 - val_loss: 1325476736.0000\n",
            "Epoch 150/300\n",
            "24/24 [==============================] - 0s 4ms/step - loss: 1243664256.0000 - val_loss: 1320794752.0000\n",
            "Epoch 151/300\n",
            "24/24 [==============================] - 0s 4ms/step - loss: 1238652800.0000 - val_loss: 1314128384.0000\n",
            "Epoch 152/300\n",
            "24/24 [==============================] - 0s 3ms/step - loss: 1234526720.0000 - val_loss: 1312980736.0000\n",
            "Epoch 153/300\n",
            "24/24 [==============================] - 0s 3ms/step - loss: 1229817856.0000 - val_loss: 1306983168.0000\n",
            "Epoch 154/300\n",
            "24/24 [==============================] - 0s 3ms/step - loss: 1229544448.0000 - val_loss: 1304341632.0000\n",
            "Epoch 155/300\n",
            "24/24 [==============================] - 0s 4ms/step - loss: 1222733824.0000 - val_loss: 1300858880.0000\n",
            "Epoch 156/300\n",
            "24/24 [==============================] - 0s 3ms/step - loss: 1219315328.0000 - val_loss: 1305704192.0000\n",
            "Epoch 157/300\n",
            "24/24 [==============================] - 0s 4ms/step - loss: 1213636736.0000 - val_loss: 1299132928.0000\n",
            "Epoch 158/300\n",
            "24/24 [==============================] - 0s 4ms/step - loss: 1208675328.0000 - val_loss: 1286976768.0000\n",
            "Epoch 159/300\n",
            "24/24 [==============================] - 0s 4ms/step - loss: 1210653952.0000 - val_loss: 1285000704.0000\n",
            "Epoch 160/300\n",
            "24/24 [==============================] - 0s 4ms/step - loss: 1209625728.0000 - val_loss: 1307201792.0000\n",
            "Epoch 161/300\n",
            "24/24 [==============================] - 0s 4ms/step - loss: 1199162496.0000 - val_loss: 1286200576.0000\n",
            "Epoch 162/300\n",
            "24/24 [==============================] - 0s 5ms/step - loss: 1196595328.0000 - val_loss: 1278118656.0000\n",
            "Epoch 163/300\n",
            "24/24 [==============================] - 0s 4ms/step - loss: 1193608832.0000 - val_loss: 1282094208.0000\n",
            "Epoch 164/300\n",
            "24/24 [==============================] - 0s 4ms/step - loss: 1190468992.0000 - val_loss: 1280464256.0000\n",
            "Epoch 165/300\n",
            "24/24 [==============================] - 0s 4ms/step - loss: 1189429248.0000 - val_loss: 1277297152.0000\n",
            "Epoch 166/300\n",
            "24/24 [==============================] - 0s 4ms/step - loss: 1185098240.0000 - val_loss: 1271739520.0000\n",
            "Epoch 167/300\n",
            "24/24 [==============================] - 0s 3ms/step - loss: 1179433344.0000 - val_loss: 1269010688.0000\n",
            "Epoch 168/300\n",
            "24/24 [==============================] - 0s 4ms/step - loss: 1179707776.0000 - val_loss: 1267463936.0000\n",
            "Epoch 169/300\n",
            "24/24 [==============================] - 0s 3ms/step - loss: 1176940800.0000 - val_loss: 1274873600.0000\n",
            "Epoch 170/300\n",
            "24/24 [==============================] - 0s 3ms/step - loss: 1176933760.0000 - val_loss: 1263788544.0000\n",
            "Epoch 171/300\n",
            "24/24 [==============================] - 0s 4ms/step - loss: 1173021440.0000 - val_loss: 1268952192.0000\n",
            "Epoch 172/300\n",
            "24/24 [==============================] - 0s 3ms/step - loss: 1172652672.0000 - val_loss: 1264741504.0000\n",
            "Epoch 173/300\n",
            "24/24 [==============================] - 0s 4ms/step - loss: 1165455872.0000 - val_loss: 1255457536.0000\n",
            "Epoch 174/300\n",
            "24/24 [==============================] - 0s 4ms/step - loss: 1167729536.0000 - val_loss: 1249052032.0000\n",
            "Epoch 175/300\n",
            "24/24 [==============================] - 0s 4ms/step - loss: 1154984576.0000 - val_loss: 1269622144.0000\n",
            "Epoch 176/300\n",
            "24/24 [==============================] - 0s 4ms/step - loss: 1162271360.0000 - val_loss: 1273612416.0000\n",
            "Epoch 177/300\n",
            "24/24 [==============================] - 0s 4ms/step - loss: 1159427200.0000 - val_loss: 1252717568.0000\n",
            "Epoch 178/300\n",
            "24/24 [==============================] - 0s 4ms/step - loss: 1155901312.0000 - val_loss: 1255523968.0000\n",
            "Epoch 179/300\n",
            "24/24 [==============================] - 0s 4ms/step - loss: 1151331968.0000 - val_loss: 1242525952.0000\n",
            "Epoch 180/300\n",
            "24/24 [==============================] - 0s 4ms/step - loss: 1152456704.0000 - val_loss: 1255844224.0000\n",
            "Epoch 181/300\n",
            "24/24 [==============================] - 0s 5ms/step - loss: 1144789376.0000 - val_loss: 1242917888.0000\n",
            "Epoch 182/300\n",
            "24/24 [==============================] - 0s 4ms/step - loss: 1146937344.0000 - val_loss: 1240361216.0000\n",
            "Epoch 183/300\n",
            "24/24 [==============================] - 0s 4ms/step - loss: 1157707776.0000 - val_loss: 1260532224.0000\n",
            "Epoch 184/300\n",
            "24/24 [==============================] - 0s 4ms/step - loss: 1141733632.0000 - val_loss: 1233937664.0000\n",
            "Epoch 185/300\n",
            "24/24 [==============================] - 0s 4ms/step - loss: 1138898432.0000 - val_loss: 1248252288.0000\n",
            "Epoch 186/300\n",
            "24/24 [==============================] - 0s 4ms/step - loss: 1134021504.0000 - val_loss: 1236865280.0000\n",
            "Epoch 187/300\n",
            "24/24 [==============================] - 0s 4ms/step - loss: 1131650176.0000 - val_loss: 1248820096.0000\n",
            "Epoch 188/300\n",
            "24/24 [==============================] - 0s 3ms/step - loss: 1132222720.0000 - val_loss: 1245673472.0000\n",
            "Epoch 189/300\n",
            "24/24 [==============================] - 0s 5ms/step - loss: 1129473792.0000 - val_loss: 1235773824.0000\n",
            "Epoch 190/300\n",
            "24/24 [==============================] - 0s 4ms/step - loss: 1125500032.0000 - val_loss: 1235744512.0000\n",
            "Epoch 191/300\n",
            "24/24 [==============================] - 0s 4ms/step - loss: 1126139264.0000 - val_loss: 1234439296.0000\n",
            "Epoch 192/300\n",
            "24/24 [==============================] - 0s 4ms/step - loss: 1128781312.0000 - val_loss: 1233091072.0000\n",
            "Epoch 193/300\n",
            "24/24 [==============================] - 0s 3ms/step - loss: 1124573184.0000 - val_loss: 1222141312.0000\n",
            "Epoch 194/300\n",
            "24/24 [==============================] - 0s 4ms/step - loss: 1119693952.0000 - val_loss: 1230033280.0000\n",
            "Epoch 195/300\n",
            "24/24 [==============================] - 0s 4ms/step - loss: 1118164992.0000 - val_loss: 1227291008.0000\n",
            "Epoch 196/300\n",
            "24/24 [==============================] - 0s 4ms/step - loss: 1117938944.0000 - val_loss: 1230982912.0000\n",
            "Epoch 197/300\n",
            "24/24 [==============================] - 0s 3ms/step - loss: 1114650112.0000 - val_loss: 1227960832.0000\n",
            "Epoch 198/300\n",
            "24/24 [==============================] - 0s 3ms/step - loss: 1113545600.0000 - val_loss: 1226396544.0000\n",
            "Epoch 199/300\n",
            "24/24 [==============================] - 0s 3ms/step - loss: 1115892096.0000 - val_loss: 1221962240.0000\n",
            "Epoch 200/300\n",
            "24/24 [==============================] - 0s 4ms/step - loss: 1119172736.0000 - val_loss: 1238491008.0000\n",
            "Epoch 201/300\n",
            "24/24 [==============================] - 0s 4ms/step - loss: 1116671488.0000 - val_loss: 1208080256.0000\n",
            "Epoch 202/300\n",
            "24/24 [==============================] - 0s 4ms/step - loss: 1108728064.0000 - val_loss: 1225570176.0000\n",
            "Epoch 203/300\n",
            "24/24 [==============================] - 0s 4ms/step - loss: 1109302528.0000 - val_loss: 1222019840.0000\n",
            "Epoch 204/300\n",
            "24/24 [==============================] - 0s 4ms/step - loss: 1103835776.0000 - val_loss: 1217433088.0000\n",
            "Epoch 205/300\n",
            "24/24 [==============================] - 0s 4ms/step - loss: 1103275008.0000 - val_loss: 1211358336.0000\n",
            "Epoch 206/300\n",
            "24/24 [==============================] - 0s 4ms/step - loss: 1102305792.0000 - val_loss: 1210204672.0000\n",
            "Epoch 207/300\n",
            "24/24 [==============================] - 0s 4ms/step - loss: 1102284672.0000 - val_loss: 1215638912.0000\n",
            "Epoch 208/300\n",
            "24/24 [==============================] - 0s 4ms/step - loss: 1106685696.0000 - val_loss: 1232508800.0000\n",
            "Epoch 209/300\n",
            "24/24 [==============================] - 0s 4ms/step - loss: 1104098688.0000 - val_loss: 1199439232.0000\n",
            "Epoch 210/300\n",
            "24/24 [==============================] - 0s 4ms/step - loss: 1097963648.0000 - val_loss: 1214134144.0000\n",
            "Epoch 211/300\n",
            "24/24 [==============================] - 0s 4ms/step - loss: 1095859840.0000 - val_loss: 1218880000.0000\n",
            "Epoch 212/300\n",
            "24/24 [==============================] - 0s 4ms/step - loss: 1096441088.0000 - val_loss: 1213722752.0000\n",
            "Epoch 213/300\n",
            "24/24 [==============================] - 0s 4ms/step - loss: 1094534784.0000 - val_loss: 1203012224.0000\n",
            "Epoch 214/300\n",
            "24/24 [==============================] - 0s 4ms/step - loss: 1090671744.0000 - val_loss: 1215768576.0000\n",
            "Epoch 215/300\n",
            "24/24 [==============================] - 0s 4ms/step - loss: 1090645632.0000 - val_loss: 1211334784.0000\n",
            "Epoch 216/300\n",
            "24/24 [==============================] - 0s 4ms/step - loss: 1089860736.0000 - val_loss: 1216150144.0000\n",
            "Epoch 217/300\n",
            "24/24 [==============================] - 0s 3ms/step - loss: 1087866240.0000 - val_loss: 1199687936.0000\n",
            "Epoch 218/300\n",
            "24/24 [==============================] - 0s 4ms/step - loss: 1085340032.0000 - val_loss: 1205631872.0000\n",
            "Epoch 219/300\n",
            "24/24 [==============================] - 0s 4ms/step - loss: 1084313728.0000 - val_loss: 1202849920.0000\n",
            "Epoch 220/300\n",
            "24/24 [==============================] - 0s 4ms/step - loss: 1083180544.0000 - val_loss: 1205479808.0000\n",
            "Epoch 221/300\n",
            "24/24 [==============================] - 0s 4ms/step - loss: 1082404352.0000 - val_loss: 1204120960.0000\n",
            "Epoch 222/300\n",
            "24/24 [==============================] - 0s 3ms/step - loss: 1078555904.0000 - val_loss: 1202557952.0000\n",
            "Epoch 223/300\n",
            "24/24 [==============================] - 0s 3ms/step - loss: 1078400896.0000 - val_loss: 1195212032.0000\n",
            "Epoch 224/300\n",
            "24/24 [==============================] - 0s 4ms/step - loss: 1077668992.0000 - val_loss: 1197890304.0000\n",
            "Epoch 225/300\n",
            "24/24 [==============================] - 0s 4ms/step - loss: 1079860096.0000 - val_loss: 1205590016.0000\n",
            "Epoch 226/300\n",
            "24/24 [==============================] - 0s 4ms/step - loss: 1075137024.0000 - val_loss: 1197862016.0000\n",
            "Epoch 227/300\n",
            "24/24 [==============================] - 0s 4ms/step - loss: 1074300800.0000 - val_loss: 1184815104.0000\n",
            "Epoch 228/300\n",
            "24/24 [==============================] - 0s 4ms/step - loss: 1076836096.0000 - val_loss: 1199424000.0000\n",
            "Epoch 229/300\n",
            "24/24 [==============================] - 0s 4ms/step - loss: 1072519808.0000 - val_loss: 1189008768.0000\n",
            "Epoch 230/300\n",
            "24/24 [==============================] - 0s 4ms/step - loss: 1079462400.0000 - val_loss: 1191128448.0000\n",
            "Epoch 231/300\n",
            "24/24 [==============================] - 0s 4ms/step - loss: 1070966912.0000 - val_loss: 1196745728.0000\n",
            "Epoch 232/300\n",
            "24/24 [==============================] - 0s 4ms/step - loss: 1067830336.0000 - val_loss: 1186578432.0000\n",
            "Epoch 233/300\n",
            "24/24 [==============================] - 0s 4ms/step - loss: 1067030720.0000 - val_loss: 1186983040.0000\n",
            "Epoch 234/300\n",
            "24/24 [==============================] - 0s 4ms/step - loss: 1072575680.0000 - val_loss: 1204284800.0000\n",
            "Epoch 235/300\n",
            "24/24 [==============================] - 0s 5ms/step - loss: 1061840256.0000 - val_loss: 1183547008.0000\n",
            "Epoch 236/300\n",
            "24/24 [==============================] - 0s 4ms/step - loss: 1064266304.0000 - val_loss: 1189748224.0000\n",
            "Epoch 237/300\n",
            "24/24 [==============================] - 0s 3ms/step - loss: 1063780032.0000 - val_loss: 1188747904.0000\n",
            "Epoch 238/300\n",
            "24/24 [==============================] - 0s 4ms/step - loss: 1061264448.0000 - val_loss: 1182180864.0000\n",
            "Epoch 239/300\n",
            "24/24 [==============================] - 0s 3ms/step - loss: 1066361984.0000 - val_loss: 1188634880.0000\n",
            "Epoch 240/300\n",
            "24/24 [==============================] - 0s 4ms/step - loss: 1060419328.0000 - val_loss: 1185981184.0000\n",
            "Epoch 241/300\n",
            "24/24 [==============================] - 0s 4ms/step - loss: 1060951296.0000 - val_loss: 1191932544.0000\n",
            "Epoch 242/300\n",
            "24/24 [==============================] - 0s 4ms/step - loss: 1057915264.0000 - val_loss: 1179313792.0000\n",
            "Epoch 243/300\n",
            "24/24 [==============================] - 0s 3ms/step - loss: 1056096576.0000 - val_loss: 1186099200.0000\n",
            "Epoch 244/300\n",
            "24/24 [==============================] - 0s 4ms/step - loss: 1055192640.0000 - val_loss: 1180642304.0000\n",
            "Epoch 245/300\n",
            "24/24 [==============================] - 0s 4ms/step - loss: 1057811392.0000 - val_loss: 1188737408.0000\n",
            "Epoch 246/300\n",
            "24/24 [==============================] - 0s 4ms/step - loss: 1055925504.0000 - val_loss: 1188030080.0000\n",
            "Epoch 247/300\n",
            "24/24 [==============================] - 0s 4ms/step - loss: 1056413120.0000 - val_loss: 1180587264.0000\n",
            "Epoch 248/300\n",
            "24/24 [==============================] - 0s 4ms/step - loss: 1054009664.0000 - val_loss: 1172950272.0000\n",
            "Epoch 249/300\n",
            "24/24 [==============================] - 0s 4ms/step - loss: 1051558080.0000 - val_loss: 1181311488.0000\n",
            "Epoch 250/300\n",
            "24/24 [==============================] - 0s 4ms/step - loss: 1054432896.0000 - val_loss: 1191393536.0000\n",
            "Epoch 251/300\n",
            "24/24 [==============================] - 0s 4ms/step - loss: 1050256448.0000 - val_loss: 1182115072.0000\n",
            "Epoch 252/300\n",
            "24/24 [==============================] - 0s 4ms/step - loss: 1052747264.0000 - val_loss: 1171458304.0000\n",
            "Epoch 253/300\n",
            "24/24 [==============================] - 0s 4ms/step - loss: 1047340800.0000 - val_loss: 1176639232.0000\n",
            "Epoch 254/300\n",
            "24/24 [==============================] - 0s 4ms/step - loss: 1046307840.0000 - val_loss: 1175227520.0000\n",
            "Epoch 255/300\n",
            "24/24 [==============================] - 0s 4ms/step - loss: 1050099648.0000 - val_loss: 1172197248.0000\n",
            "Epoch 256/300\n",
            "24/24 [==============================] - 0s 3ms/step - loss: 1049764736.0000 - val_loss: 1177094912.0000\n",
            "Epoch 257/300\n",
            "24/24 [==============================] - 0s 5ms/step - loss: 1046170176.0000 - val_loss: 1174699264.0000\n",
            "Epoch 258/300\n",
            "24/24 [==============================] - 0s 4ms/step - loss: 1050736896.0000 - val_loss: 1173980928.0000\n",
            "Epoch 259/300\n",
            "24/24 [==============================] - 0s 4ms/step - loss: 1056802176.0000 - val_loss: 1180635776.0000\n",
            "Epoch 260/300\n",
            "24/24 [==============================] - 0s 4ms/step - loss: 1043134144.0000 - val_loss: 1169671424.0000\n",
            "Epoch 261/300\n",
            "24/24 [==============================] - 0s 4ms/step - loss: 1040535744.0000 - val_loss: 1165641472.0000\n",
            "Epoch 262/300\n",
            "24/24 [==============================] - 0s 5ms/step - loss: 1040952448.0000 - val_loss: 1170747392.0000\n",
            "Epoch 263/300\n",
            "24/24 [==============================] - 0s 3ms/step - loss: 1038322496.0000 - val_loss: 1178261632.0000\n",
            "Epoch 264/300\n",
            "24/24 [==============================] - 0s 4ms/step - loss: 1041110848.0000 - val_loss: 1181519872.0000\n",
            "Epoch 265/300\n",
            "24/24 [==============================] - 0s 4ms/step - loss: 1041297792.0000 - val_loss: 1180135296.0000\n",
            "Epoch 266/300\n",
            "24/24 [==============================] - 0s 4ms/step - loss: 1039510208.0000 - val_loss: 1167986688.0000\n",
            "Epoch 267/300\n",
            "24/24 [==============================] - 0s 4ms/step - loss: 1038934336.0000 - val_loss: 1159792640.0000\n",
            "Epoch 268/300\n",
            "24/24 [==============================] - 0s 4ms/step - loss: 1039381376.0000 - val_loss: 1162702080.0000\n",
            "Epoch 269/300\n",
            "24/24 [==============================] - 0s 4ms/step - loss: 1036772416.0000 - val_loss: 1168141568.0000\n",
            "Epoch 270/300\n",
            "24/24 [==============================] - 0s 4ms/step - loss: 1033458304.0000 - val_loss: 1167131392.0000\n",
            "Epoch 271/300\n",
            "24/24 [==============================] - 0s 4ms/step - loss: 1035582592.0000 - val_loss: 1167428352.0000\n",
            "Epoch 272/300\n",
            "24/24 [==============================] - 0s 4ms/step - loss: 1031474816.0000 - val_loss: 1162266880.0000\n",
            "Epoch 273/300\n",
            "24/24 [==============================] - 0s 4ms/step - loss: 1032866560.0000 - val_loss: 1154464000.0000\n",
            "Epoch 274/300\n",
            "24/24 [==============================] - 0s 4ms/step - loss: 1028927808.0000 - val_loss: 1167416192.0000\n",
            "Epoch 275/300\n",
            "24/24 [==============================] - 0s 3ms/step - loss: 1034051712.0000 - val_loss: 1167192320.0000\n",
            "Epoch 276/300\n",
            "24/24 [==============================] - 0s 4ms/step - loss: 1034183488.0000 - val_loss: 1167293568.0000\n",
            "Epoch 277/300\n",
            "24/24 [==============================] - 0s 4ms/step - loss: 1034355904.0000 - val_loss: 1173801216.0000\n",
            "Epoch 278/300\n",
            "24/24 [==============================] - 0s 4ms/step - loss: 1025913600.0000 - val_loss: 1150694528.0000\n",
            "Epoch 279/300\n",
            "24/24 [==============================] - 0s 3ms/step - loss: 1027278464.0000 - val_loss: 1158459648.0000\n",
            "Epoch 280/300\n",
            "24/24 [==============================] - 0s 4ms/step - loss: 1028394496.0000 - val_loss: 1166427520.0000\n",
            "Epoch 281/300\n",
            "24/24 [==============================] - 0s 4ms/step - loss: 1024575104.0000 - val_loss: 1152194816.0000\n",
            "Epoch 282/300\n",
            "24/24 [==============================] - 0s 5ms/step - loss: 1026700352.0000 - val_loss: 1150496768.0000\n",
            "Epoch 283/300\n",
            "24/24 [==============================] - 0s 4ms/step - loss: 1023564160.0000 - val_loss: 1161261056.0000\n",
            "Epoch 284/300\n",
            "24/24 [==============================] - 0s 4ms/step - loss: 1023394880.0000 - val_loss: 1156004480.0000\n",
            "Epoch 285/300\n",
            "24/24 [==============================] - 0s 4ms/step - loss: 1024563648.0000 - val_loss: 1162422528.0000\n",
            "Epoch 286/300\n",
            "24/24 [==============================] - 0s 3ms/step - loss: 1019996480.0000 - val_loss: 1155937152.0000\n",
            "Epoch 287/300\n",
            "24/24 [==============================] - 0s 4ms/step - loss: 1026607488.0000 - val_loss: 1153496832.0000\n",
            "Epoch 288/300\n",
            "24/24 [==============================] - 0s 5ms/step - loss: 1020844736.0000 - val_loss: 1154107648.0000\n",
            "Epoch 289/300\n",
            "24/24 [==============================] - 0s 4ms/step - loss: 1022680960.0000 - val_loss: 1155066112.0000\n",
            "Epoch 290/300\n",
            "24/24 [==============================] - 0s 4ms/step - loss: 1024364864.0000 - val_loss: 1165710336.0000\n",
            "Epoch 291/300\n",
            "24/24 [==============================] - 0s 4ms/step - loss: 1017372992.0000 - val_loss: 1152203648.0000\n",
            "Epoch 292/300\n",
            "24/24 [==============================] - 0s 3ms/step - loss: 1018928128.0000 - val_loss: 1146532608.0000\n",
            "Epoch 293/300\n",
            "24/24 [==============================] - 0s 4ms/step - loss: 1022649344.0000 - val_loss: 1154699264.0000\n",
            "Epoch 294/300\n",
            "24/24 [==============================] - 0s 4ms/step - loss: 1017800832.0000 - val_loss: 1154805376.0000\n",
            "Epoch 295/300\n",
            "24/24 [==============================] - 0s 4ms/step - loss: 1019834240.0000 - val_loss: 1152353920.0000\n",
            "Epoch 296/300\n",
            "24/24 [==============================] - 0s 4ms/step - loss: 1015894784.0000 - val_loss: 1157487488.0000\n",
            "Epoch 297/300\n",
            "24/24 [==============================] - 0s 4ms/step - loss: 1019015872.0000 - val_loss: 1146115840.0000\n",
            "Epoch 298/300\n",
            "24/24 [==============================] - 0s 3ms/step - loss: 1020614848.0000 - val_loss: 1159646336.0000\n",
            "Epoch 299/300\n",
            "24/24 [==============================] - 0s 4ms/step - loss: 1016836672.0000 - val_loss: 1150503168.0000\n",
            "Epoch 300/300\n",
            "24/24 [==============================] - 0s 4ms/step - loss: 1014872384.0000 - val_loss: 1145779584.0000\n"
          ]
        },
        {
          "output_type": "execute_result",
          "data": {
            "text/plain": [
              "<keras.callbacks.History at 0x7f48daf1da50>"
            ]
          },
          "metadata": {},
          "execution_count": 46
        }
      ]
    },
    {
      "cell_type": "code",
      "source": [
        "model_loss = pd.DataFrame(model.history.history)\n",
        "model_loss.head()"
      ],
      "metadata": {
        "colab": {
          "base_uri": "https://localhost:8080/",
          "height": 206
        },
        "id": "p2gHQXssy-FG",
        "outputId": "17c900e7-21b4-438a-efa5-4579d739f16e"
      },
      "execution_count": null,
      "outputs": [
        {
          "output_type": "execute_result",
          "data": {
            "text/plain": [
              "           loss      val_loss\n",
              "0  3.856836e+10  3.733343e+10\n",
              "1  3.856797e+10  3.733281e+10\n",
              "2  3.856688e+10  3.733087e+10\n",
              "3  3.856342e+10  3.732453e+10\n",
              "4  3.855228e+10  3.730450e+10"
            ],
            "text/html": [
              "\n",
              "  <div id=\"df-d1c7ba82-420d-4845-a7f1-ec5d724faece\">\n",
              "    <div class=\"colab-df-container\">\n",
              "      <div>\n",
              "<style scoped>\n",
              "    .dataframe tbody tr th:only-of-type {\n",
              "        vertical-align: middle;\n",
              "    }\n",
              "\n",
              "    .dataframe tbody tr th {\n",
              "        vertical-align: top;\n",
              "    }\n",
              "\n",
              "    .dataframe thead th {\n",
              "        text-align: right;\n",
              "    }\n",
              "</style>\n",
              "<table border=\"1\" class=\"dataframe\">\n",
              "  <thead>\n",
              "    <tr style=\"text-align: right;\">\n",
              "      <th></th>\n",
              "      <th>loss</th>\n",
              "      <th>val_loss</th>\n",
              "    </tr>\n",
              "  </thead>\n",
              "  <tbody>\n",
              "    <tr>\n",
              "      <th>0</th>\n",
              "      <td>3.856836e+10</td>\n",
              "      <td>3.733343e+10</td>\n",
              "    </tr>\n",
              "    <tr>\n",
              "      <th>1</th>\n",
              "      <td>3.856797e+10</td>\n",
              "      <td>3.733281e+10</td>\n",
              "    </tr>\n",
              "    <tr>\n",
              "      <th>2</th>\n",
              "      <td>3.856688e+10</td>\n",
              "      <td>3.733087e+10</td>\n",
              "    </tr>\n",
              "    <tr>\n",
              "      <th>3</th>\n",
              "      <td>3.856342e+10</td>\n",
              "      <td>3.732453e+10</td>\n",
              "    </tr>\n",
              "    <tr>\n",
              "      <th>4</th>\n",
              "      <td>3.855228e+10</td>\n",
              "      <td>3.730450e+10</td>\n",
              "    </tr>\n",
              "  </tbody>\n",
              "</table>\n",
              "</div>\n",
              "      <button class=\"colab-df-convert\" onclick=\"convertToInteractive('df-d1c7ba82-420d-4845-a7f1-ec5d724faece')\"\n",
              "              title=\"Convert this dataframe to an interactive table.\"\n",
              "              style=\"display:none;\">\n",
              "        \n",
              "  <svg xmlns=\"http://www.w3.org/2000/svg\" height=\"24px\"viewBox=\"0 0 24 24\"\n",
              "       width=\"24px\">\n",
              "    <path d=\"M0 0h24v24H0V0z\" fill=\"none\"/>\n",
              "    <path d=\"M18.56 5.44l.94 2.06.94-2.06 2.06-.94-2.06-.94-.94-2.06-.94 2.06-2.06.94zm-11 1L8.5 8.5l.94-2.06 2.06-.94-2.06-.94L8.5 2.5l-.94 2.06-2.06.94zm10 10l.94 2.06.94-2.06 2.06-.94-2.06-.94-.94-2.06-.94 2.06-2.06.94z\"/><path d=\"M17.41 7.96l-1.37-1.37c-.4-.4-.92-.59-1.43-.59-.52 0-1.04.2-1.43.59L10.3 9.45l-7.72 7.72c-.78.78-.78 2.05 0 2.83L4 21.41c.39.39.9.59 1.41.59.51 0 1.02-.2 1.41-.59l7.78-7.78 2.81-2.81c.8-.78.8-2.07 0-2.86zM5.41 20L4 18.59l7.72-7.72 1.47 1.35L5.41 20z\"/>\n",
              "  </svg>\n",
              "      </button>\n",
              "      \n",
              "  <style>\n",
              "    .colab-df-container {\n",
              "      display:flex;\n",
              "      flex-wrap:wrap;\n",
              "      gap: 12px;\n",
              "    }\n",
              "\n",
              "    .colab-df-convert {\n",
              "      background-color: #E8F0FE;\n",
              "      border: none;\n",
              "      border-radius: 50%;\n",
              "      cursor: pointer;\n",
              "      display: none;\n",
              "      fill: #1967D2;\n",
              "      height: 32px;\n",
              "      padding: 0 0 0 0;\n",
              "      width: 32px;\n",
              "    }\n",
              "\n",
              "    .colab-df-convert:hover {\n",
              "      background-color: #E2EBFA;\n",
              "      box-shadow: 0px 1px 2px rgba(60, 64, 67, 0.3), 0px 1px 3px 1px rgba(60, 64, 67, 0.15);\n",
              "      fill: #174EA6;\n",
              "    }\n",
              "\n",
              "    [theme=dark] .colab-df-convert {\n",
              "      background-color: #3B4455;\n",
              "      fill: #D2E3FC;\n",
              "    }\n",
              "\n",
              "    [theme=dark] .colab-df-convert:hover {\n",
              "      background-color: #434B5C;\n",
              "      box-shadow: 0px 1px 3px 1px rgba(0, 0, 0, 0.15);\n",
              "      filter: drop-shadow(0px 1px 2px rgba(0, 0, 0, 0.3));\n",
              "      fill: #FFFFFF;\n",
              "    }\n",
              "  </style>\n",
              "\n",
              "      <script>\n",
              "        const buttonEl =\n",
              "          document.querySelector('#df-d1c7ba82-420d-4845-a7f1-ec5d724faece button.colab-df-convert');\n",
              "        buttonEl.style.display =\n",
              "          google.colab.kernel.accessAllowed ? 'block' : 'none';\n",
              "\n",
              "        async function convertToInteractive(key) {\n",
              "          const element = document.querySelector('#df-d1c7ba82-420d-4845-a7f1-ec5d724faece');\n",
              "          const dataTable =\n",
              "            await google.colab.kernel.invokeFunction('convertToInteractive',\n",
              "                                                     [key], {});\n",
              "          if (!dataTable) return;\n",
              "\n",
              "          const docLinkHtml = 'Like what you see? Visit the ' +\n",
              "            '<a target=\"_blank\" href=https://colab.research.google.com/notebooks/data_table.ipynb>data table notebook</a>'\n",
              "            + ' to learn more about interactive tables.';\n",
              "          element.innerHTML = '';\n",
              "          dataTable['output_type'] = 'display_data';\n",
              "          await google.colab.output.renderOutput(dataTable, element);\n",
              "          const docLink = document.createElement('div');\n",
              "          docLink.innerHTML = docLinkHtml;\n",
              "          element.appendChild(docLink);\n",
              "        }\n",
              "      </script>\n",
              "    </div>\n",
              "  </div>\n",
              "  "
            ]
          },
          "metadata": {},
          "execution_count": 47
        }
      ]
    },
    {
      "cell_type": "code",
      "source": [
        "model_loss.plot(figsize=(8,5))"
      ],
      "metadata": {
        "colab": {
          "base_uri": "https://localhost:8080/",
          "height": 348
        },
        "id": "vePs0GRmy-Ij",
        "outputId": "f0c525b1-f6d9-4b4b-f220-a510b4069d6a"
      },
      "execution_count": null,
      "outputs": [
        {
          "output_type": "execute_result",
          "data": {
            "text/plain": [
              "<matplotlib.axes._subplots.AxesSubplot at 0x7f48d660ca90>"
            ]
          },
          "metadata": {},
          "execution_count": 48
        },
        {
          "output_type": "display_data",
          "data": {
            "text/plain": [
              "<Figure size 576x360 with 1 Axes>"
            ],
            "image/png": "[encoded data removed]"
          },
          "metadata": {
            "needs_background": "light"
          }
        }
      ]
    },
    {
      "cell_type": "code",
      "source": [
        "neural_pred = model.predict(X_test)\n",
        "neural_pred = neural_pred.reshape(len(neural_pred))"
      ],
      "metadata": {
        "id": "u00J50Eby-LT"
      },
      "execution_count": null,
      "outputs": []
    },
    {
      "cell_type": "code",
      "source": [
        "plt.figure(figsize=(8,5))\n",
        "plt.scatter(y_test,neural_pred,color='red')\n",
        "plt.plot(y_test,y_test,color='red')\n",
        "plt.ylabel('y Predicted Value')\n",
        "plt.xlabel('y Test Value')\n",
        "plt.title('Comparison of y predicted value against test value')\n",
        "#plots the actual y values y_test, against the y values predicted by the trained model"
      ],
      "metadata": {
        "colab": {
          "base_uri": "https://localhost:8080/",
          "height": 367
        },
        "id": "IkrnBLHOy-NC",
        "outputId": "413e25bb-3815-4e04-bdad-427f6f0c30db"
      },
      "execution_count": null,
      "outputs": [
        {
          "output_type": "execute_result",
          "data": {
            "text/plain": [
              "Text(0.5, 1.0, 'Comparison of y predicted value against test value')"
            ]
          },
          "metadata": {},
          "execution_count": 50
        },
        {
          "output_type": "display_data",
          "data": {
            "text/plain": [
              "<Figure size 576x360 with 1 Axes>"
            ],
            "image/png": "[encoded data removed]"
          },
          "metadata": {
            "needs_background": "light"
          }
        }
      ]
    },
    {
      "cell_type": "code",
      "source": [
        "print('MAE:', metrics.mean_absolute_error(y_test, neural_pred))\n",
        "print('MSE:', metrics.mean_squared_error(y_test, neural_pred))\n",
        "print('RMSE:', np.sqrt(metrics.mean_squared_error(y_test, neural_pred)))\n",
        "print('R2 Score:', metrics.r2_score(y_test, neural_pred))"
      ],
      "metadata": {
        "colab": {
          "base_uri": "https://localhost:8080/"
        },
        "id": "TpeRno_qy-QS",
        "outputId": "6fbd270f-703f-4e99-a500-695d91261787"
      },
      "execution_count": null,
      "outputs": [
        {
          "output_type": "stream",
          "name": "stdout",
          "text": [
            "MAE: 20685.116786172945\n",
            "MSE: 1145779677.4889257\n",
            "RMSE: 33849.367460691574\n",
            "R2 Score: 0.8088193163617774\n"
          ]
        }
      ]
    },
    {
      "cell_type": "code",
      "source": [
        "plt.figure(figsize=(8,5))\n",
        "sns.histplot((y_test-neural_pred),bins=80,kde=True,color='red')\n",
        "plt.xlim(-80000,80000)\n",
        "#plots a histogram of the residual values of y"
      ],
      "metadata": {
        "colab": {
          "base_uri": "https://localhost:8080/",
          "height": 351
        },
        "id": "pPL2zgu3y-Vn",
        "outputId": "c6d8dd40-efb0-4bb6-c289-29006652806e"
      },
      "execution_count": null,
      "outputs": [
        {
          "output_type": "execute_result",
          "data": {
            "text/plain": [
              "(-80000.0, 80000.0)"
            ]
          },
          "metadata": {},
          "execution_count": 52
        },
        {
          "output_type": "display_data",
          "data": {
            "text/plain": [
              "<Figure size 576x360 with 1 Axes>"
            ],
            "image/png": "[encoded data removed]"
          },
          "metadata": {
            "needs_background": "light"
          }
        }
      ]
    },
    {
      "cell_type": "code",
      "source": [
        "test = df_test[['OverallQual', 'GrLivArea', 'GarageCars', 'GarageArea', 'TotalBsmtSF', '1stFlrSF', 'FullBath', 'TotRmsAbvGrd', 'YearBuilt', \n",
        "              'YearRemodAdd', 'GarageYrBlt', 'MasVnrArea', 'Fireplaces', 'BsmtFinSF1', 'LotFrontage', 'WoodDeckSF', '2ndFlrSF']]\n",
        "test.head()"
      ],
      "metadata": {
        "colab": {
          "base_uri": "https://localhost:8080/",
          "height": 270
        },
        "id": "QmZIqXnsCLom",
        "outputId": "ed6de25a-d8bc-422d-e891-455f1bac639f"
      },
      "execution_count": null,
      "outputs": [
        {
          "output_type": "execute_result",
          "data": {
            "text/plain": [
              "   OverallQual  GrLivArea  GarageCars  GarageArea  TotalBsmtSF  1stFlrSF  \\\n",
              "0            5        896         1.0       730.0        882.0       896   \n",
              "1            6       1329         1.0       312.0       1329.0      1329   \n",
              "2            5       1629         2.0       482.0        928.0       928   \n",
              "3            6       1604         2.0       470.0        926.0       926   \n",
              "4            8       1280         2.0       506.0       1280.0      1280   \n",
              "\n",
              "   FullBath  TotRmsAbvGrd  YearBuilt  YearRemodAdd  GarageYrBlt  MasVnrArea  \\\n",
              "0         1             5       1961          1961       1961.0         0.0   \n",
              "1         1             6       1958          1958       1958.0       108.0   \n",
              "2         2             6       1997          1998       1997.0         0.0   \n",
              "3         2             7       1998          1998       1998.0        20.0   \n",
              "4         2             5       1992          1992       1992.0         0.0   \n",
              "\n",
              "   Fireplaces  BsmtFinSF1  LotFrontage  WoodDeckSF  2ndFlrSF  \n",
              "0           0       468.0         80.0         140         0  \n",
              "1           0       923.0         81.0         393         0  \n",
              "2           1       791.0         74.0         212       701  \n",
              "3           1       602.0         78.0         360       678  \n",
              "4           0       263.0         43.0           0         0  "
            ],
            "text/html": [
              "\n",
              "  <div id=\"df-e3793a38-77be-41d5-a419-197d8978ceec\">\n",
              "    <div class=\"colab-df-container\">\n",
              "      <div>\n",
              "<style scoped>\n",
              "    .dataframe tbody tr th:only-of-type {\n",
              "        vertical-align: middle;\n",
              "    }\n",
              "\n",
              "    .dataframe tbody tr th {\n",
              "        vertical-align: top;\n",
              "    }\n",
              "\n",
              "    .dataframe thead th {\n",
              "        text-align: right;\n",
              "    }\n",
              "</style>\n",
              "<table border=\"1\" class=\"dataframe\">\n",
              "  <thead>\n",
              "    <tr style=\"text-align: right;\">\n",
              "      <th></th>\n",
              "      <th>OverallQual</th>\n",
              "      <th>GrLivArea</th>\n",
              "      <th>GarageCars</th>\n",
              "      <th>GarageArea</th>\n",
              "      <th>TotalBsmtSF</th>\n",
              "      <th>1stFlrSF</th>\n",
              "      <th>FullBath</th>\n",
              "      <th>TotRmsAbvGrd</th>\n",
              "      <th>YearBuilt</th>\n",
              "      <th>YearRemodAdd</th>\n",
              "      <th>GarageYrBlt</th>\n",
              "      <th>MasVnrArea</th>\n",
              "      <th>Fireplaces</th>\n",
              "      <th>BsmtFinSF1</th>\n",
              "      <th>LotFrontage</th>\n",
              "      <th>WoodDeckSF</th>\n",
              "      <th>2ndFlrSF</th>\n",
              "    </tr>\n",
              "  </thead>\n",
              "  <tbody>\n",
              "    <tr>\n",
              "      <th>0</th>\n",
              "      <td>5</td>\n",
              "      <td>896</td>\n",
              "      <td>1.0</td>\n",
              "      <td>730.0</td>\n",
              "      <td>882.0</td>\n",
              "      <td>896</td>\n",
              "      <td>1</td>\n",
              "      <td>5</td>\n",
              "      <td>1961</td>\n",
              "      <td>1961</td>\n",
              "      <td>1961.0</td>\n",
              "      <td>0.0</td>\n",
              "      <td>0</td>\n",
              "      <td>468.0</td>\n",
              "      <td>80.0</td>\n",
              "      <td>140</td>\n",
              "      <td>0</td>\n",
              "    </tr>\n",
              "    <tr>\n",
              "      <th>1</th>\n",
              "      <td>6</td>\n",
              "      <td>1329</td>\n",
              "      <td>1.0</td>\n",
              "      <td>312.0</td>\n",
              "      <td>1329.0</td>\n",
              "      <td>1329</td>\n",
              "      <td>1</td>\n",
              "      <td>6</td>\n",
              "      <td>1958</td>\n",
              "      <td>1958</td>\n",
              "      <td>1958.0</td>\n",
              "      <td>108.0</td>\n",
              "      <td>0</td>\n",
              "      <td>923.0</td>\n",
              "      <td>81.0</td>\n",
              "      <td>393</td>\n",
              "      <td>0</td>\n",
              "    </tr>\n",
              "    <tr>\n",
              "      <th>2</th>\n",
              "      <td>5</td>\n",
              "      <td>1629</td>\n",
              "      <td>2.0</td>\n",
              "      <td>482.0</td>\n",
              "      <td>928.0</td>\n",
              "      <td>928</td>\n",
              "      <td>2</td>\n",
              "      <td>6</td>\n",
              "      <td>1997</td>\n",
              "      <td>1998</td>\n",
              "      <td>1997.0</td>\n",
              "      <td>0.0</td>\n",
              "      <td>1</td>\n",
              "      <td>791.0</td>\n",
              "      <td>74.0</td>\n",
              "      <td>212</td>\n",
              "      <td>701</td>\n",
              "    </tr>\n",
              "    <tr>\n",
              "      <th>3</th>\n",
              "      <td>6</td>\n",
              "      <td>1604</td>\n",
              "      <td>2.0</td>\n",
              "      <td>470.0</td>\n",
              "      <td>926.0</td>\n",
              "      <td>926</td>\n",
              "      <td>2</td>\n",
              "      <td>7</td>\n",
              "      <td>1998</td>\n",
              "      <td>1998</td>\n",
              "      <td>1998.0</td>\n",
              "      <td>20.0</td>\n",
              "      <td>1</td>\n",
              "      <td>602.0</td>\n",
              "      <td>78.0</td>\n",
              "      <td>360</td>\n",
              "      <td>678</td>\n",
              "    </tr>\n",
              "    <tr>\n",
              "      <th>4</th>\n",
              "      <td>8</td>\n",
              "      <td>1280</td>\n",
              "      <td>2.0</td>\n",
              "      <td>506.0</td>\n",
              "      <td>1280.0</td>\n",
              "      <td>1280</td>\n",
              "      <td>2</td>\n",
              "      <td>5</td>\n",
              "      <td>1992</td>\n",
              "      <td>1992</td>\n",
              "      <td>1992.0</td>\n",
              "      <td>0.0</td>\n",
              "      <td>0</td>\n",
              "      <td>263.0</td>\n",
              "      <td>43.0</td>\n",
              "      <td>0</td>\n",
              "      <td>0</td>\n",
              "    </tr>\n",
              "  </tbody>\n",
              "</table>\n",
              "</div>\n",
              "      <button class=\"colab-df-convert\" onclick=\"convertToInteractive('df-e3793a38-77be-41d5-a419-197d8978ceec')\"\n",
              "              title=\"Convert this dataframe to an interactive table.\"\n",
              "              style=\"display:none;\">\n",
              "        \n",
              "  <svg xmlns=\"http://www.w3.org/2000/svg\" height=\"24px\"viewBox=\"0 0 24 24\"\n",
              "       width=\"24px\">\n",
              "    <path d=\"M0 0h24v24H0V0z\" fill=\"none\"/>\n",
              "    <path d=\"M18.56 5.44l.94 2.06.94-2.06 2.06-.94-2.06-.94-.94-2.06-.94 2.06-2.06.94zm-11 1L8.5 8.5l.94-2.06 2.06-.94-2.06-.94L8.5 2.5l-.94 2.06-2.06.94zm10 10l.94 2.06.94-2.06 2.06-.94-2.06-.94-.94-2.06-.94 2.06-2.06.94z\"/><path d=\"M17.41 7.96l-1.37-1.37c-.4-.4-.92-.59-1.43-.59-.52 0-1.04.2-1.43.59L10.3 9.45l-7.72 7.72c-.78.78-.78 2.05 0 2.83L4 21.41c.39.39.9.59 1.41.59.51 0 1.02-.2 1.41-.59l7.78-7.78 2.81-2.81c.8-.78.8-2.07 0-2.86zM5.41 20L4 18.59l7.72-7.72 1.47 1.35L5.41 20z\"/>\n",
              "  </svg>\n",
              "      </button>\n",
              "      \n",
              "  <style>\n",
              "    .colab-df-container {\n",
              "      display:flex;\n",
              "      flex-wrap:wrap;\n",
              "      gap: 12px;\n",
              "    }\n",
              "\n",
              "    .colab-df-convert {\n",
              "      background-color: #E8F0FE;\n",
              "      border: none;\n",
              "      border-radius: 50%;\n",
              "      cursor: pointer;\n",
              "      display: none;\n",
              "      fill: #1967D2;\n",
              "      height: 32px;\n",
              "      padding: 0 0 0 0;\n",
              "      width: 32px;\n",
              "    }\n",
              "\n",
              "    .colab-df-convert:hover {\n",
              "      background-color: #E2EBFA;\n",
              "      box-shadow: 0px 1px 2px rgba(60, 64, 67, 0.3), 0px 1px 3px 1px rgba(60, 64, 67, 0.15);\n",
              "      fill: #174EA6;\n",
              "    }\n",
              "\n",
              "    [theme=dark] .colab-df-convert {\n",
              "      background-color: #3B4455;\n",
              "      fill: #D2E3FC;\n",
              "    }\n",
              "\n",
              "    [theme=dark] .colab-df-convert:hover {\n",
              "      background-color: #434B5C;\n",
              "      box-shadow: 0px 1px 3px 1px rgba(0, 0, 0, 0.15);\n",
              "      filter: drop-shadow(0px 1px 2px rgba(0, 0, 0, 0.3));\n",
              "      fill: #FFFFFF;\n",
              "    }\n",
              "  </style>\n",
              "\n",
              "      <script>\n",
              "        const buttonEl =\n",
              "          document.querySelector('#df-e3793a38-77be-41d5-a419-197d8978ceec button.colab-df-convert');\n",
              "        buttonEl.style.display =\n",
              "          google.colab.kernel.accessAllowed ? 'block' : 'none';\n",
              "\n",
              "        async function convertToInteractive(key) {\n",
              "          const element = document.querySelector('#df-e3793a38-77be-41d5-a419-197d8978ceec');\n",
              "          const dataTable =\n",
              "            await google.colab.kernel.invokeFunction('convertToInteractive',\n",
              "                                                     [key], {});\n",
              "          if (!dataTable) return;\n",
              "\n",
              "          const docLinkHtml = 'Like what you see? Visit the ' +\n",
              "            '<a target=\"_blank\" href=https://colab.research.google.com/notebooks/data_table.ipynb>data table notebook</a>'\n",
              "            + ' to learn more about interactive tables.';\n",
              "          element.innerHTML = '';\n",
              "          dataTable['output_type'] = 'display_data';\n",
              "          await google.colab.output.renderOutput(dataTable, element);\n",
              "          const docLink = document.createElement('div');\n",
              "          docLink.innerHTML = docLinkHtml;\n",
              "          element.appendChild(docLink);\n",
              "        }\n",
              "      </script>\n",
              "    </div>\n",
              "  </div>\n",
              "  "
            ]
          },
          "metadata": {},
          "execution_count": 53
        }
      ]
    },
    {
      "cell_type": "code",
      "source": [
        "plt.figure(figsize=(8,5))\n",
        "sns.heatmap(test.isnull(),cmap='viridis')"
      ],
      "metadata": {
        "colab": {
          "base_uri": "https://localhost:8080/",
          "height": 407
        },
        "id": "LsYjvxxGCLrG",
        "outputId": "437e8f9d-4c1a-40a9-962d-8eea48356d64"
      },
      "execution_count": null,
      "outputs": [
        {
          "output_type": "execute_result",
          "data": {
            "text/plain": [
              "<matplotlib.axes._subplots.AxesSubplot at 0x7f48dab0b190>"
            ]
          },
          "metadata": {},
          "execution_count": 54
        },
        {
          "output_type": "display_data",
          "data": {
            "text/plain": [
              "<Figure size 576x360 with 2 Axes>"
            ],
            "image/png": "[encoded data removed]"
          },
          "metadata": {
            "needs_background": "light"
          }
        }
      ]
    },
    {
      "cell_type": "code",
      "source": [
        "test['GarageCars'].fillna(value=test['GarageCars'].mean(), inplace=True)\n",
        "test['GarageArea'].fillna(value=test['GarageArea'].mean(), inplace=True)\n",
        "test['TotalBsmtSF'].fillna(value=test['TotalBsmtSF'].mean(), inplace=True)\n",
        "test['GarageYrBlt'].fillna(value=test['GarageYrBlt'].mean(), inplace=True)\n",
        "test['MasVnrArea'].fillna(value=test['MasVnrArea'].mean(), inplace=True)\n",
        "test['BsmtFinSF1'].fillna(value=test['BsmtFinSF1'].mean(), inplace=True)\n",
        "test['LotFrontage'].fillna(value=test['LotFrontage'].mean(), inplace=True)"
      ],
      "metadata": {
        "colab": {
          "base_uri": "https://localhost:8080/"
        },
        "id": "MrTOiLKHCLt2",
        "outputId": "d8c55655-01d2-44dd-dfa8-60e2ba248a8c"
      },
      "execution_count": null,
      "outputs": [
        {
          "output_type": "stream",
          "name": "stderr",
          "text": [
            "/usr/local/lib/python3.7/dist-packages/pandas/core/generic.py:6392: SettingWithCopyWarning: \n",
            "A value is trying to be set on a copy of a slice from a DataFrame\n",
            "\n",
            "See the caveats in the documentation: https://pandas.pydata.org/pandas-docs/stable/user_guide/indexing.html#returning-a-view-versus-a-copy\n",
            "  return self._update_inplace(result)\n"
          ]
        }
      ]
    },
    {
      "cell_type": "code",
      "source": [
        "test = scaler.transform(test)"
      ],
      "metadata": {
        "id": "FdGOdw9GJmjB"
      },
      "execution_count": null,
      "outputs": []
    },
    {
      "cell_type": "code",
      "source": [
        "submission_predictions = xgb_r.predict(test)"
      ],
      "metadata": {
        "id": "QoA9CKn5Fhhx"
      },
      "execution_count": null,
      "outputs": []
    },
    {
      "cell_type": "code",
      "source": [
        "output = pd.DataFrame({'Id': df_test['Id'], 'SalePrice': submission_predictions})\n",
        "output.to_csv('submission.csv', index=False)"
      ],
      "metadata": {
        "id": "kgEFMYXaCLwl"
      },
      "execution_count": null,
      "outputs": []
    },
    {
      "cell_type": "markdown",
      "source": [
        "Compare predicted and actual values for a randomly selected data example."
      ],
      "metadata": {
        "id": "FCL-S6IMB2nx"
      }
    },
    {
      "cell_type": "code",
      "source": [
        "rand_generator = np.random.randint(0,len(X)-1)\n",
        "new_pred = scaler.transform(X.iloc[[rand_generator]]) #using double brackets for the iloc[[x]] returns a pandas DataFrame and not a Series.\n",
        "actual = y[rand_generator] \n",
        "print('Compare Random Prediction with Actual Value\\nPrediction:', xgb_r.predict(new_pred)[0],'\\nActual:    ',actual)"
      ],
      "metadata": {
        "colab": {
          "base_uri": "https://localhost:8080/"
        },
        "id": "yIyNgeK9OeKM",
        "outputId": "126b1d50-fcb5-4de4-e64b-861f34291ba4"
      },
      "execution_count": null,
      "outputs": [
        {
          "output_type": "stream",
          "name": "stdout",
          "text": [
            "Compare Random Prediction with Actual Value\n",
            "Prediction: 234140.12 \n",
            "Actual:     234000\n"
          ]
        }
      ]
    },
    {
      "cell_type": "markdown",
      "source": [
        "### Conclusion\n",
        "\n",
        "A range of machine learning models have been applied to the data set, with the xgboost regressor model giving the lowest root mean squared error when applied to the test set. The RMSE of around USD31,000 is not brilliant, given the mean sales price of USD181,000, however it does demonstrate the value of machine learning in predicting the sales price of a house given a number of input variables. \n",
        "\n",
        "This is quite a complex data set with 81 feature variables. I refined the variables used for my machine learning models by selecting those most strongly correlated with the sales price. I am sure that with further feature engineering and selection of the best variables a superior result could be obtained."
      ],
      "metadata": {
        "id": "yTG4BYDl9BcF"
      }
    },
    {
      "cell_type": "code",
      "source": [],
      "metadata": {
        "id": "P8qXdOddBv-R"
      },
      "execution_count": null,
      "outputs": []
    }
  ]
}